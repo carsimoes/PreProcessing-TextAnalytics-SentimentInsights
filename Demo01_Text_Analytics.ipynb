{
  "nbformat": 4,
  "nbformat_minor": 0,
  "metadata": {
    "colab": {
      "provenance": []
    },
    "kernelspec": {
      "name": "python3",
      "display_name": "Python 3"
    },
    "language_info": {
      "name": "python"
    }
  },
  "cells": [
    {
      "cell_type": "code",
      "execution_count": 2,
      "metadata": {
        "id": "Qg_ADIlmSfXM"
      },
      "outputs": [],
      "source": [
        "##!pip install spacy pyLDAvis"
      ]
    },
    {
      "cell_type": "code",
      "source": [
        "!python -m spacy download pt_core_news_sm"
      ],
      "metadata": {
        "colab": {
          "base_uri": "https://localhost:8080/"
        },
        "id": "u4esVCOLTZrM",
        "outputId": "fc648512-1174-43db-c1d2-fb97551b44c2"
      },
      "execution_count": 3,
      "outputs": [
        {
          "output_type": "stream",
          "name": "stdout",
          "text": [
            "/usr/local/lib/python3.8/dist-packages/torch/cuda/__init__.py:497: UserWarning: Can't initialize NVML\n",
            "  warnings.warn(\"Can't initialize NVML\")\n",
            "2022-12-17 14:23:18.046936: E tensorflow/stream_executor/cuda/cuda_driver.cc:271] failed call to cuInit: CUDA_ERROR_NO_DEVICE: no CUDA-capable device is detected\n",
            "Looking in indexes: https://pypi.org/simple, https://us-python.pkg.dev/colab-wheels/public/simple/\n",
            "Collecting pt-core-news-sm==3.4.0\n",
            "  Downloading https://github.com/explosion/spacy-models/releases/download/pt_core_news_sm-3.4.0/pt_core_news_sm-3.4.0-py3-none-any.whl (13.0 MB)\n",
            "\u001b[K     |████████████████████████████████| 13.0 MB 5.2 MB/s \n",
            "\u001b[?25hRequirement already satisfied: spacy<3.5.0,>=3.4.0 in /usr/local/lib/python3.8/dist-packages (from pt-core-news-sm==3.4.0) (3.4.4)\n",
            "Requirement already satisfied: murmurhash<1.1.0,>=0.28.0 in /usr/local/lib/python3.8/dist-packages (from spacy<3.5.0,>=3.4.0->pt-core-news-sm==3.4.0) (1.0.9)\n",
            "Requirement already satisfied: smart-open<7.0.0,>=5.2.1 in /usr/local/lib/python3.8/dist-packages (from spacy<3.5.0,>=3.4.0->pt-core-news-sm==3.4.0) (6.3.0)\n",
            "Requirement already satisfied: wasabi<1.1.0,>=0.9.1 in /usr/local/lib/python3.8/dist-packages (from spacy<3.5.0,>=3.4.0->pt-core-news-sm==3.4.0) (0.10.1)\n",
            "Requirement already satisfied: numpy>=1.15.0 in /usr/local/lib/python3.8/dist-packages (from spacy<3.5.0,>=3.4.0->pt-core-news-sm==3.4.0) (1.21.6)\n",
            "Requirement already satisfied: tqdm<5.0.0,>=4.38.0 in /usr/local/lib/python3.8/dist-packages (from spacy<3.5.0,>=3.4.0->pt-core-news-sm==3.4.0) (4.64.1)\n",
            "Requirement already satisfied: setuptools in /usr/local/lib/python3.8/dist-packages (from spacy<3.5.0,>=3.4.0->pt-core-news-sm==3.4.0) (57.4.0)\n",
            "Requirement already satisfied: packaging>=20.0 in /usr/local/lib/python3.8/dist-packages (from spacy<3.5.0,>=3.4.0->pt-core-news-sm==3.4.0) (21.3)\n",
            "Requirement already satisfied: jinja2 in /usr/local/lib/python3.8/dist-packages (from spacy<3.5.0,>=3.4.0->pt-core-news-sm==3.4.0) (2.11.3)\n",
            "Requirement already satisfied: pathy>=0.3.5 in /usr/local/lib/python3.8/dist-packages (from spacy<3.5.0,>=3.4.0->pt-core-news-sm==3.4.0) (0.10.1)\n",
            "Requirement already satisfied: spacy-legacy<3.1.0,>=3.0.10 in /usr/local/lib/python3.8/dist-packages (from spacy<3.5.0,>=3.4.0->pt-core-news-sm==3.4.0) (3.0.10)\n",
            "Requirement already satisfied: thinc<8.2.0,>=8.1.0 in /usr/local/lib/python3.8/dist-packages (from spacy<3.5.0,>=3.4.0->pt-core-news-sm==3.4.0) (8.1.5)\n",
            "Requirement already satisfied: typer<0.8.0,>=0.3.0 in /usr/local/lib/python3.8/dist-packages (from spacy<3.5.0,>=3.4.0->pt-core-news-sm==3.4.0) (0.7.0)\n",
            "Requirement already satisfied: spacy-loggers<2.0.0,>=1.0.0 in /usr/local/lib/python3.8/dist-packages (from spacy<3.5.0,>=3.4.0->pt-core-news-sm==3.4.0) (1.0.4)\n",
            "Requirement already satisfied: srsly<3.0.0,>=2.4.3 in /usr/local/lib/python3.8/dist-packages (from spacy<3.5.0,>=3.4.0->pt-core-news-sm==3.4.0) (2.4.5)\n",
            "Requirement already satisfied: cymem<2.1.0,>=2.0.2 in /usr/local/lib/python3.8/dist-packages (from spacy<3.5.0,>=3.4.0->pt-core-news-sm==3.4.0) (2.0.7)\n",
            "Requirement already satisfied: preshed<3.1.0,>=3.0.2 in /usr/local/lib/python3.8/dist-packages (from spacy<3.5.0,>=3.4.0->pt-core-news-sm==3.4.0) (3.0.8)\n",
            "Requirement already satisfied: pydantic!=1.8,!=1.8.1,<1.11.0,>=1.7.4 in /usr/local/lib/python3.8/dist-packages (from spacy<3.5.0,>=3.4.0->pt-core-news-sm==3.4.0) (1.10.2)\n",
            "Requirement already satisfied: requests<3.0.0,>=2.13.0 in /usr/local/lib/python3.8/dist-packages (from spacy<3.5.0,>=3.4.0->pt-core-news-sm==3.4.0) (2.23.0)\n",
            "Requirement already satisfied: langcodes<4.0.0,>=3.2.0 in /usr/local/lib/python3.8/dist-packages (from spacy<3.5.0,>=3.4.0->pt-core-news-sm==3.4.0) (3.3.0)\n",
            "Requirement already satisfied: catalogue<2.1.0,>=2.0.6 in /usr/local/lib/python3.8/dist-packages (from spacy<3.5.0,>=3.4.0->pt-core-news-sm==3.4.0) (2.0.8)\n",
            "Requirement already satisfied: pyparsing!=3.0.5,>=2.0.2 in /usr/local/lib/python3.8/dist-packages (from packaging>=20.0->spacy<3.5.0,>=3.4.0->pt-core-news-sm==3.4.0) (3.0.9)\n",
            "Requirement already satisfied: typing-extensions>=4.1.0 in /usr/local/lib/python3.8/dist-packages (from pydantic!=1.8,!=1.8.1,<1.11.0,>=1.7.4->spacy<3.5.0,>=3.4.0->pt-core-news-sm==3.4.0) (4.4.0)\n",
            "Requirement already satisfied: certifi>=2017.4.17 in /usr/local/lib/python3.8/dist-packages (from requests<3.0.0,>=2.13.0->spacy<3.5.0,>=3.4.0->pt-core-news-sm==3.4.0) (2022.12.7)\n",
            "Requirement already satisfied: idna<3,>=2.5 in /usr/local/lib/python3.8/dist-packages (from requests<3.0.0,>=2.13.0->spacy<3.5.0,>=3.4.0->pt-core-news-sm==3.4.0) (2.10)\n",
            "Requirement already satisfied: urllib3!=1.25.0,!=1.25.1,<1.26,>=1.21.1 in /usr/local/lib/python3.8/dist-packages (from requests<3.0.0,>=2.13.0->spacy<3.5.0,>=3.4.0->pt-core-news-sm==3.4.0) (1.24.3)\n",
            "Requirement already satisfied: chardet<4,>=3.0.2 in /usr/local/lib/python3.8/dist-packages (from requests<3.0.0,>=2.13.0->spacy<3.5.0,>=3.4.0->pt-core-news-sm==3.4.0) (3.0.4)\n",
            "Requirement already satisfied: blis<0.8.0,>=0.7.8 in /usr/local/lib/python3.8/dist-packages (from thinc<8.2.0,>=8.1.0->spacy<3.5.0,>=3.4.0->pt-core-news-sm==3.4.0) (0.7.9)\n",
            "Requirement already satisfied: confection<1.0.0,>=0.0.1 in /usr/local/lib/python3.8/dist-packages (from thinc<8.2.0,>=8.1.0->spacy<3.5.0,>=3.4.0->pt-core-news-sm==3.4.0) (0.0.3)\n",
            "Requirement already satisfied: click<9.0.0,>=7.1.1 in /usr/local/lib/python3.8/dist-packages (from typer<0.8.0,>=0.3.0->spacy<3.5.0,>=3.4.0->pt-core-news-sm==3.4.0) (7.1.2)\n",
            "Requirement already satisfied: MarkupSafe>=0.23 in /usr/local/lib/python3.8/dist-packages (from jinja2->spacy<3.5.0,>=3.4.0->pt-core-news-sm==3.4.0) (2.0.1)\n",
            "Installing collected packages: pt-core-news-sm\n",
            "Successfully installed pt-core-news-sm-3.4.0\n",
            "\u001b[38;5;2m✔ Download and installation successful\u001b[0m\n",
            "You can now load the package via spacy.load('pt_core_news_sm')\n"
          ]
        }
      ]
    },
    {
      "cell_type": "code",
      "source": [
        "import pandas as pd\n",
        "import matplotlib.pyplot as plt\n",
        "import spacy\n",
        "import nltk\n",
        "import re\n",
        "from nltk import word_tokenize\n",
        "from nltk.util import ngrams\n",
        "from sklearn.decomposition import LatentDirichletAllocation\n",
        "from sklearn.feature_extraction.text import CountVectorizer\n",
        "from collections import Counter\n",
        "import warnings\n",
        "warnings.filterwarnings('ignore')\n",
        "nlp_pt = spacy.load('pt_core_news_sm')"
      ],
      "metadata": {
        "colab": {
          "base_uri": "https://localhost:8080/"
        },
        "id": "b12O-YtuTfpj",
        "outputId": "1af7bd08-ddff-4437-bf00-2900ced51c05"
      },
      "execution_count": 4,
      "outputs": [
        {
          "output_type": "stream",
          "name": "stderr",
          "text": [
            "/usr/local/lib/python3.8/dist-packages/torch/cuda/__init__.py:497: UserWarning: Can't initialize NVML\n",
            "  warnings.warn(\"Can't initialize NVML\")\n"
          ]
        }
      ]
    },
    {
      "cell_type": "code",
      "source": [
        "# executar apenas uma vez\n",
        "nltk.download('punkt')"
      ],
      "metadata": {
        "colab": {
          "base_uri": "https://localhost:8080/"
        },
        "id": "mFBY0FXWTmxr",
        "outputId": "af8ca8c9-3d87-4f84-8af2-f04f19042c18"
      },
      "execution_count": 5,
      "outputs": [
        {
          "output_type": "stream",
          "name": "stderr",
          "text": [
            "[nltk_data] Downloading package punkt to /root/nltk_data...\n",
            "[nltk_data]   Unzipping tokenizers/punkt.zip.\n"
          ]
        },
        {
          "output_type": "execute_result",
          "data": {
            "text/plain": [
              "True"
            ]
          },
          "metadata": {},
          "execution_count": 5
        }
      ]
    },
    {
      "cell_type": "code",
      "source": [
        "news = pd.read_csv('https://www.dropbox.com/s/rvwjw8miow6jswy/articles.csv?dl=1')"
      ],
      "metadata": {
        "id": "TKMSXOIOTpLb"
      },
      "execution_count": 6,
      "outputs": []
    },
    {
      "cell_type": "code",
      "source": [
        "news.head()"
      ],
      "metadata": {
        "colab": {
          "base_uri": "https://localhost:8080/",
          "height": 206
        },
        "id": "HjDiCvD8Trc7",
        "outputId": "bab8d98b-b971-40a6-be0d-7d5f6ed76529"
      },
      "execution_count": 7,
      "outputs": [
        {
          "output_type": "execute_result",
          "data": {
            "text/plain": [
              "                                               title  \\\n",
              "0  Lula diz que está 'lascado', mas que ainda tem...   \n",
              "1  'Decidi ser escrava das mulheres que sofrem', ...   \n",
              "2  Três reportagens da Folha ganham Prêmio Petrob...   \n",
              "3  Filme 'Star Wars: Os Últimos Jedi' ganha trail...   \n",
              "4  CBSS inicia acordos com fintechs e quer 30% do...   \n",
              "\n",
              "                                                text        date   category  \\\n",
              "0  Com a possibilidade de uma condenação impedir ...  2017-09-10      poder   \n",
              "1  Para Oumou Sangaré, cantora e ativista malines...  2017-09-10  ilustrada   \n",
              "2  Três reportagens da Folha foram vencedoras do ...  2017-09-10      poder   \n",
              "3  A Disney divulgou na noite desta segunda-feira...  2017-09-10  ilustrada   \n",
              "4  O CBSS, banco da holding Elopar dos sócios Bra...  2017-09-10    mercado   \n",
              "\n",
              "  subcategory                                               link  \n",
              "0         NaN  http://www1.folha.uol.com.br/poder/2017/10/192...  \n",
              "1         NaN  http://www1.folha.uol.com.br/ilustrada/2017/10...  \n",
              "2         NaN  http://www1.folha.uol.com.br/poder/2017/10/192...  \n",
              "3         NaN  http://www1.folha.uol.com.br/ilustrada/2017/10...  \n",
              "4         NaN  http://www1.folha.uol.com.br/mercado/2017/10/1...  "
            ],
            "text/html": [
              "\n",
              "  <div id=\"df-f7777b43-04bf-467c-afd9-59b680e13530\">\n",
              "    <div class=\"colab-df-container\">\n",
              "      <div>\n",
              "<style scoped>\n",
              "    .dataframe tbody tr th:only-of-type {\n",
              "        vertical-align: middle;\n",
              "    }\n",
              "\n",
              "    .dataframe tbody tr th {\n",
              "        vertical-align: top;\n",
              "    }\n",
              "\n",
              "    .dataframe thead th {\n",
              "        text-align: right;\n",
              "    }\n",
              "</style>\n",
              "<table border=\"1\" class=\"dataframe\">\n",
              "  <thead>\n",
              "    <tr style=\"text-align: right;\">\n",
              "      <th></th>\n",
              "      <th>title</th>\n",
              "      <th>text</th>\n",
              "      <th>date</th>\n",
              "      <th>category</th>\n",
              "      <th>subcategory</th>\n",
              "      <th>link</th>\n",
              "    </tr>\n",
              "  </thead>\n",
              "  <tbody>\n",
              "    <tr>\n",
              "      <th>0</th>\n",
              "      <td>Lula diz que está 'lascado', mas que ainda tem...</td>\n",
              "      <td>Com a possibilidade de uma condenação impedir ...</td>\n",
              "      <td>2017-09-10</td>\n",
              "      <td>poder</td>\n",
              "      <td>NaN</td>\n",
              "      <td>http://www1.folha.uol.com.br/poder/2017/10/192...</td>\n",
              "    </tr>\n",
              "    <tr>\n",
              "      <th>1</th>\n",
              "      <td>'Decidi ser escrava das mulheres que sofrem', ...</td>\n",
              "      <td>Para Oumou Sangaré, cantora e ativista malines...</td>\n",
              "      <td>2017-09-10</td>\n",
              "      <td>ilustrada</td>\n",
              "      <td>NaN</td>\n",
              "      <td>http://www1.folha.uol.com.br/ilustrada/2017/10...</td>\n",
              "    </tr>\n",
              "    <tr>\n",
              "      <th>2</th>\n",
              "      <td>Três reportagens da Folha ganham Prêmio Petrob...</td>\n",
              "      <td>Três reportagens da Folha foram vencedoras do ...</td>\n",
              "      <td>2017-09-10</td>\n",
              "      <td>poder</td>\n",
              "      <td>NaN</td>\n",
              "      <td>http://www1.folha.uol.com.br/poder/2017/10/192...</td>\n",
              "    </tr>\n",
              "    <tr>\n",
              "      <th>3</th>\n",
              "      <td>Filme 'Star Wars: Os Últimos Jedi' ganha trail...</td>\n",
              "      <td>A Disney divulgou na noite desta segunda-feira...</td>\n",
              "      <td>2017-09-10</td>\n",
              "      <td>ilustrada</td>\n",
              "      <td>NaN</td>\n",
              "      <td>http://www1.folha.uol.com.br/ilustrada/2017/10...</td>\n",
              "    </tr>\n",
              "    <tr>\n",
              "      <th>4</th>\n",
              "      <td>CBSS inicia acordos com fintechs e quer 30% do...</td>\n",
              "      <td>O CBSS, banco da holding Elopar dos sócios Bra...</td>\n",
              "      <td>2017-09-10</td>\n",
              "      <td>mercado</td>\n",
              "      <td>NaN</td>\n",
              "      <td>http://www1.folha.uol.com.br/mercado/2017/10/1...</td>\n",
              "    </tr>\n",
              "  </tbody>\n",
              "</table>\n",
              "</div>\n",
              "      <button class=\"colab-df-convert\" onclick=\"convertToInteractive('df-f7777b43-04bf-467c-afd9-59b680e13530')\"\n",
              "              title=\"Convert this dataframe to an interactive table.\"\n",
              "              style=\"display:none;\">\n",
              "        \n",
              "  <svg xmlns=\"http://www.w3.org/2000/svg\" height=\"24px\"viewBox=\"0 0 24 24\"\n",
              "       width=\"24px\">\n",
              "    <path d=\"M0 0h24v24H0V0z\" fill=\"none\"/>\n",
              "    <path d=\"M18.56 5.44l.94 2.06.94-2.06 2.06-.94-2.06-.94-.94-2.06-.94 2.06-2.06.94zm-11 1L8.5 8.5l.94-2.06 2.06-.94-2.06-.94L8.5 2.5l-.94 2.06-2.06.94zm10 10l.94 2.06.94-2.06 2.06-.94-2.06-.94-.94-2.06-.94 2.06-2.06.94z\"/><path d=\"M17.41 7.96l-1.37-1.37c-.4-.4-.92-.59-1.43-.59-.52 0-1.04.2-1.43.59L10.3 9.45l-7.72 7.72c-.78.78-.78 2.05 0 2.83L4 21.41c.39.39.9.59 1.41.59.51 0 1.02-.2 1.41-.59l7.78-7.78 2.81-2.81c.8-.78.8-2.07 0-2.86zM5.41 20L4 18.59l7.72-7.72 1.47 1.35L5.41 20z\"/>\n",
              "  </svg>\n",
              "      </button>\n",
              "      \n",
              "  <style>\n",
              "    .colab-df-container {\n",
              "      display:flex;\n",
              "      flex-wrap:wrap;\n",
              "      gap: 12px;\n",
              "    }\n",
              "\n",
              "    .colab-df-convert {\n",
              "      background-color: #E8F0FE;\n",
              "      border: none;\n",
              "      border-radius: 50%;\n",
              "      cursor: pointer;\n",
              "      display: none;\n",
              "      fill: #1967D2;\n",
              "      height: 32px;\n",
              "      padding: 0 0 0 0;\n",
              "      width: 32px;\n",
              "    }\n",
              "\n",
              "    .colab-df-convert:hover {\n",
              "      background-color: #E2EBFA;\n",
              "      box-shadow: 0px 1px 2px rgba(60, 64, 67, 0.3), 0px 1px 3px 1px rgba(60, 64, 67, 0.15);\n",
              "      fill: #174EA6;\n",
              "    }\n",
              "\n",
              "    [theme=dark] .colab-df-convert {\n",
              "      background-color: #3B4455;\n",
              "      fill: #D2E3FC;\n",
              "    }\n",
              "\n",
              "    [theme=dark] .colab-df-convert:hover {\n",
              "      background-color: #434B5C;\n",
              "      box-shadow: 0px 1px 3px 1px rgba(0, 0, 0, 0.15);\n",
              "      filter: drop-shadow(0px 1px 2px rgba(0, 0, 0, 0.3));\n",
              "      fill: #FFFFFF;\n",
              "    }\n",
              "  </style>\n",
              "\n",
              "      <script>\n",
              "        const buttonEl =\n",
              "          document.querySelector('#df-f7777b43-04bf-467c-afd9-59b680e13530 button.colab-df-convert');\n",
              "        buttonEl.style.display =\n",
              "          google.colab.kernel.accessAllowed ? 'block' : 'none';\n",
              "\n",
              "        async function convertToInteractive(key) {\n",
              "          const element = document.querySelector('#df-f7777b43-04bf-467c-afd9-59b680e13530');\n",
              "          const dataTable =\n",
              "            await google.colab.kernel.invokeFunction('convertToInteractive',\n",
              "                                                     [key], {});\n",
              "          if (!dataTable) return;\n",
              "\n",
              "          const docLinkHtml = 'Like what you see? Visit the ' +\n",
              "            '<a target=\"_blank\" href=https://colab.research.google.com/notebooks/data_table.ipynb>data table notebook</a>'\n",
              "            + ' to learn more about interactive tables.';\n",
              "          element.innerHTML = '';\n",
              "          dataTable['output_type'] = 'display_data';\n",
              "          await google.colab.output.renderOutput(dataTable, element);\n",
              "          const docLink = document.createElement('div');\n",
              "          docLink.innerHTML = docLinkHtml;\n",
              "          element.appendChild(docLink);\n",
              "        }\n",
              "      </script>\n",
              "    </div>\n",
              "  </div>\n",
              "  "
            ]
          },
          "metadata": {},
          "execution_count": 7
        }
      ]
    },
    {
      "cell_type": "code",
      "source": [],
      "metadata": {
        "id": "Na7LcTKsT387"
      },
      "execution_count": 7,
      "outputs": []
    },
    {
      "cell_type": "markdown",
      "source": [],
      "metadata": {
        "id": "I22e17DzT4Ti"
      }
    },
    {
      "cell_type": "markdown",
      "source": [
        "Filtro pela categoria \"turismo\""
      ],
      "metadata": {
        "id": "GenAu4eIT3dT"
      }
    },
    {
      "cell_type": "code",
      "source": [
        "turismo = news[news['category'] == 'turismo']"
      ],
      "metadata": {
        "id": "zrCExNd7T6ny"
      },
      "execution_count": 8,
      "outputs": []
    },
    {
      "cell_type": "code",
      "source": [
        "turismo.head()"
      ],
      "metadata": {
        "colab": {
          "base_uri": "https://localhost:8080/",
          "height": 206
        },
        "id": "h7sjfaIDT9uq",
        "outputId": "ba8e952b-c2f4-4ebb-9c62-a2f97538d795"
      },
      "execution_count": 9,
      "outputs": [
        {
          "output_type": "execute_result",
          "data": {
            "text/plain": [
              "                                                 title  \\\n",
              "381  Latam inaugura voo direto de 15 horas entre Ch...   \n",
              "414  Turismo de Las Vegas deve se recuperar em mese...   \n",
              "522  Brasileiro cria app para economizar no passeio...   \n",
              "602       AirBnB passa a fazer reserva de restaurantes   \n",
              "609  Museus lembram quatro décadas de opressão sovi...   \n",
              "\n",
              "                                                  text        date category  \\\n",
              "381  Animem-se os que pretendem cruzar o Pacífico e...  2017-06-10  turismo   \n",
              "414  O massacre em Las Vegas afetará o turismo da c...  2017-06-10  turismo   \n",
              "522  Com cerca de 50 mil visitantes por dia, Veneza...  2017-05-10  turismo   \n",
              "602  A plataforma de hospedagem Airbnb anunciou que...  2017-05-10  turismo   \n",
              "609  Nos países que viveram sob a órbita da União S...  2017-05-10  turismo   \n",
              "\n",
              "    subcategory                                               link  \n",
              "381         NaN  http://www1.folha.uol.com.br/turismo/2017/10/1...  \n",
              "414         NaN  http://www1.folha.uol.com.br/turismo/2017/10/1...  \n",
              "522         NaN  http://www1.folha.uol.com.br/turismo/2017/10/1...  \n",
              "602         NaN  http://www1.folha.uol.com.br/turismo/2017/10/1...  \n",
              "609         NaN  http://www1.folha.uol.com.br/turismo/2017/10/1...  "
            ],
            "text/html": [
              "\n",
              "  <div id=\"df-f828401a-e93d-463d-a728-c7289f39fa3b\">\n",
              "    <div class=\"colab-df-container\">\n",
              "      <div>\n",
              "<style scoped>\n",
              "    .dataframe tbody tr th:only-of-type {\n",
              "        vertical-align: middle;\n",
              "    }\n",
              "\n",
              "    .dataframe tbody tr th {\n",
              "        vertical-align: top;\n",
              "    }\n",
              "\n",
              "    .dataframe thead th {\n",
              "        text-align: right;\n",
              "    }\n",
              "</style>\n",
              "<table border=\"1\" class=\"dataframe\">\n",
              "  <thead>\n",
              "    <tr style=\"text-align: right;\">\n",
              "      <th></th>\n",
              "      <th>title</th>\n",
              "      <th>text</th>\n",
              "      <th>date</th>\n",
              "      <th>category</th>\n",
              "      <th>subcategory</th>\n",
              "      <th>link</th>\n",
              "    </tr>\n",
              "  </thead>\n",
              "  <tbody>\n",
              "    <tr>\n",
              "      <th>381</th>\n",
              "      <td>Latam inaugura voo direto de 15 horas entre Ch...</td>\n",
              "      <td>Animem-se os que pretendem cruzar o Pacífico e...</td>\n",
              "      <td>2017-06-10</td>\n",
              "      <td>turismo</td>\n",
              "      <td>NaN</td>\n",
              "      <td>http://www1.folha.uol.com.br/turismo/2017/10/1...</td>\n",
              "    </tr>\n",
              "    <tr>\n",
              "      <th>414</th>\n",
              "      <td>Turismo de Las Vegas deve se recuperar em mese...</td>\n",
              "      <td>O massacre em Las Vegas afetará o turismo da c...</td>\n",
              "      <td>2017-06-10</td>\n",
              "      <td>turismo</td>\n",
              "      <td>NaN</td>\n",
              "      <td>http://www1.folha.uol.com.br/turismo/2017/10/1...</td>\n",
              "    </tr>\n",
              "    <tr>\n",
              "      <th>522</th>\n",
              "      <td>Brasileiro cria app para economizar no passeio...</td>\n",
              "      <td>Com cerca de 50 mil visitantes por dia, Veneza...</td>\n",
              "      <td>2017-05-10</td>\n",
              "      <td>turismo</td>\n",
              "      <td>NaN</td>\n",
              "      <td>http://www1.folha.uol.com.br/turismo/2017/10/1...</td>\n",
              "    </tr>\n",
              "    <tr>\n",
              "      <th>602</th>\n",
              "      <td>AirBnB passa a fazer reserva de restaurantes</td>\n",
              "      <td>A plataforma de hospedagem Airbnb anunciou que...</td>\n",
              "      <td>2017-05-10</td>\n",
              "      <td>turismo</td>\n",
              "      <td>NaN</td>\n",
              "      <td>http://www1.folha.uol.com.br/turismo/2017/10/1...</td>\n",
              "    </tr>\n",
              "    <tr>\n",
              "      <th>609</th>\n",
              "      <td>Museus lembram quatro décadas de opressão sovi...</td>\n",
              "      <td>Nos países que viveram sob a órbita da União S...</td>\n",
              "      <td>2017-05-10</td>\n",
              "      <td>turismo</td>\n",
              "      <td>NaN</td>\n",
              "      <td>http://www1.folha.uol.com.br/turismo/2017/10/1...</td>\n",
              "    </tr>\n",
              "  </tbody>\n",
              "</table>\n",
              "</div>\n",
              "      <button class=\"colab-df-convert\" onclick=\"convertToInteractive('df-f828401a-e93d-463d-a728-c7289f39fa3b')\"\n",
              "              title=\"Convert this dataframe to an interactive table.\"\n",
              "              style=\"display:none;\">\n",
              "        \n",
              "  <svg xmlns=\"http://www.w3.org/2000/svg\" height=\"24px\"viewBox=\"0 0 24 24\"\n",
              "       width=\"24px\">\n",
              "    <path d=\"M0 0h24v24H0V0z\" fill=\"none\"/>\n",
              "    <path d=\"M18.56 5.44l.94 2.06.94-2.06 2.06-.94-2.06-.94-.94-2.06-.94 2.06-2.06.94zm-11 1L8.5 8.5l.94-2.06 2.06-.94-2.06-.94L8.5 2.5l-.94 2.06-2.06.94zm10 10l.94 2.06.94-2.06 2.06-.94-2.06-.94-.94-2.06-.94 2.06-2.06.94z\"/><path d=\"M17.41 7.96l-1.37-1.37c-.4-.4-.92-.59-1.43-.59-.52 0-1.04.2-1.43.59L10.3 9.45l-7.72 7.72c-.78.78-.78 2.05 0 2.83L4 21.41c.39.39.9.59 1.41.59.51 0 1.02-.2 1.41-.59l7.78-7.78 2.81-2.81c.8-.78.8-2.07 0-2.86zM5.41 20L4 18.59l7.72-7.72 1.47 1.35L5.41 20z\"/>\n",
              "  </svg>\n",
              "      </button>\n",
              "      \n",
              "  <style>\n",
              "    .colab-df-container {\n",
              "      display:flex;\n",
              "      flex-wrap:wrap;\n",
              "      gap: 12px;\n",
              "    }\n",
              "\n",
              "    .colab-df-convert {\n",
              "      background-color: #E8F0FE;\n",
              "      border: none;\n",
              "      border-radius: 50%;\n",
              "      cursor: pointer;\n",
              "      display: none;\n",
              "      fill: #1967D2;\n",
              "      height: 32px;\n",
              "      padding: 0 0 0 0;\n",
              "      width: 32px;\n",
              "    }\n",
              "\n",
              "    .colab-df-convert:hover {\n",
              "      background-color: #E2EBFA;\n",
              "      box-shadow: 0px 1px 2px rgba(60, 64, 67, 0.3), 0px 1px 3px 1px rgba(60, 64, 67, 0.15);\n",
              "      fill: #174EA6;\n",
              "    }\n",
              "\n",
              "    [theme=dark] .colab-df-convert {\n",
              "      background-color: #3B4455;\n",
              "      fill: #D2E3FC;\n",
              "    }\n",
              "\n",
              "    [theme=dark] .colab-df-convert:hover {\n",
              "      background-color: #434B5C;\n",
              "      box-shadow: 0px 1px 3px 1px rgba(0, 0, 0, 0.15);\n",
              "      filter: drop-shadow(0px 1px 2px rgba(0, 0, 0, 0.3));\n",
              "      fill: #FFFFFF;\n",
              "    }\n",
              "  </style>\n",
              "\n",
              "      <script>\n",
              "        const buttonEl =\n",
              "          document.querySelector('#df-f828401a-e93d-463d-a728-c7289f39fa3b button.colab-df-convert');\n",
              "        buttonEl.style.display =\n",
              "          google.colab.kernel.accessAllowed ? 'block' : 'none';\n",
              "\n",
              "        async function convertToInteractive(key) {\n",
              "          const element = document.querySelector('#df-f828401a-e93d-463d-a728-c7289f39fa3b');\n",
              "          const dataTable =\n",
              "            await google.colab.kernel.invokeFunction('convertToInteractive',\n",
              "                                                     [key], {});\n",
              "          if (!dataTable) return;\n",
              "\n",
              "          const docLinkHtml = 'Like what you see? Visit the ' +\n",
              "            '<a target=\"_blank\" href=https://colab.research.google.com/notebooks/data_table.ipynb>data table notebook</a>'\n",
              "            + ' to learn more about interactive tables.';\n",
              "          element.innerHTML = '';\n",
              "          dataTable['output_type'] = 'display_data';\n",
              "          await google.colab.output.renderOutput(dataTable, element);\n",
              "          const docLink = document.createElement('div');\n",
              "          docLink.innerHTML = docLinkHtml;\n",
              "          element.appendChild(docLink);\n",
              "        }\n",
              "      </script>\n",
              "    </div>\n",
              "  </div>\n",
              "  "
            ]
          },
          "metadata": {},
          "execution_count": 9
        }
      ]
    },
    {
      "cell_type": "code",
      "source": [
        "\n",
        "def limpa_texto(texto):\n",
        "  # remove \\n e \\r\n",
        "  c = re.sub(r'\\n', ' ', texto)\n",
        "  c = re.sub(r'\\r', ' ', c)\n",
        "  \n",
        "  # remove caracteres alfanumericos\n",
        "  c = c.replace(':', '')\n",
        "  c = c.replace('/', '')\n",
        "  c = re.sub(r'R\\$', '', c)\n",
        "  c = re.sub(r'\\W', ' ', c)\n",
        "  # remove espaços adicionais\n",
        "  c = re.sub(r'\\s+', ' ', c)\n",
        "  # remove espacos adicionais no inicio das frases\n",
        "  c = re.sub(r'^\\s+', '', c)\n",
        "  # remove espacos adicionais no final das frases\n",
        "  c = re.sub(r'\\s+$', '', c)\n",
        " \n",
        "  return c.lower()"
      ],
      "metadata": {
        "id": "WsHZaSsbUCJ7"
      },
      "execution_count": 10,
      "outputs": []
    },
    {
      "cell_type": "code",
      "source": [
        "from spacy.lang.pt import Portuguese\n",
        "STOP_WORDS = spacy.lang.pt.stop_words.STOP_WORDS\n",
        "STOP_WORDS.update('ao')\n",
        "\n",
        "def remove_stop(texto):\n",
        "  doc = nlp_pt(texto)\n",
        "  return \" \".join(x.text for x in doc if x.text not in STOP_WORDS)"
      ],
      "metadata": {
        "id": "0jGG5qd-UHlb"
      },
      "execution_count": 11,
      "outputs": []
    },
    {
      "cell_type": "code",
      "source": [
        "def limpa_texto2(texto):\n",
        "  doc = nlp_pt(texto)\n",
        "  return \" \".join(x.lemma_ for x in doc if x.text not in STOP_WORDS)"
      ],
      "metadata": {
        "id": "lYDlPaxQUJez"
      },
      "execution_count": 12,
      "outputs": []
    },
    {
      "cell_type": "code",
      "source": [
        "STOP_WORDS"
      ],
      "metadata": {
        "colab": {
          "base_uri": "https://localhost:8080/"
        },
        "id": "VFwLMyF0ULlT",
        "outputId": "a448b0b3-2b6c-4e52-c7c2-c82dac3bf102"
      },
      "execution_count": 13,
      "outputs": [
        {
          "output_type": "execute_result",
          "data": {
            "text/plain": [
              "{'a',\n",
              " 'acerca',\n",
              " 'ademais',\n",
              " 'adeus',\n",
              " 'agora',\n",
              " 'ainda',\n",
              " 'algo',\n",
              " 'algumas',\n",
              " 'alguns',\n",
              " 'ali',\n",
              " 'além',\n",
              " 'ambas',\n",
              " 'ambos',\n",
              " 'antes',\n",
              " 'ao',\n",
              " 'aos',\n",
              " 'apenas',\n",
              " 'apoia',\n",
              " 'apoio',\n",
              " 'apontar',\n",
              " 'após',\n",
              " 'aquela',\n",
              " 'aquelas',\n",
              " 'aquele',\n",
              " 'aqueles',\n",
              " 'aqui',\n",
              " 'aquilo',\n",
              " 'as',\n",
              " 'assim',\n",
              " 'através',\n",
              " 'atrás',\n",
              " 'até',\n",
              " 'aí',\n",
              " 'baixo',\n",
              " 'bastante',\n",
              " 'bem',\n",
              " 'boa',\n",
              " 'bom',\n",
              " 'breve',\n",
              " 'cada',\n",
              " 'caminho',\n",
              " 'catorze',\n",
              " 'cedo',\n",
              " 'cento',\n",
              " 'certamente',\n",
              " 'certeza',\n",
              " 'cima',\n",
              " 'cinco',\n",
              " 'coisa',\n",
              " 'com',\n",
              " 'como',\n",
              " 'comprida',\n",
              " 'comprido',\n",
              " 'conhecida',\n",
              " 'conhecido',\n",
              " 'conselho',\n",
              " 'contra',\n",
              " 'contudo',\n",
              " 'corrente',\n",
              " 'cuja',\n",
              " 'cujo',\n",
              " 'custa',\n",
              " 'cá',\n",
              " 'da',\n",
              " 'daquela',\n",
              " 'daquele',\n",
              " 'dar',\n",
              " 'das',\n",
              " 'de',\n",
              " 'debaixo',\n",
              " 'demais',\n",
              " 'dentro',\n",
              " 'depois',\n",
              " 'des',\n",
              " 'desde',\n",
              " 'dessa',\n",
              " 'desse',\n",
              " 'desta',\n",
              " 'deste',\n",
              " 'deve',\n",
              " 'devem',\n",
              " 'deverá',\n",
              " 'dez',\n",
              " 'dezanove',\n",
              " 'dezasseis',\n",
              " 'dezassete',\n",
              " 'dezoito',\n",
              " 'diante',\n",
              " 'direita',\n",
              " 'disso',\n",
              " 'diz',\n",
              " 'dizem',\n",
              " 'dizer',\n",
              " 'do',\n",
              " 'dois',\n",
              " 'dos',\n",
              " 'doze',\n",
              " 'duas',\n",
              " 'dá',\n",
              " 'dão',\n",
              " 'e',\n",
              " 'ela',\n",
              " 'elas',\n",
              " 'ele',\n",
              " 'eles',\n",
              " 'em',\n",
              " 'embora',\n",
              " 'enquanto',\n",
              " 'entre',\n",
              " 'então',\n",
              " 'era',\n",
              " 'essa',\n",
              " 'essas',\n",
              " 'esse',\n",
              " 'esses',\n",
              " 'esta',\n",
              " 'estado',\n",
              " 'estar',\n",
              " 'estará',\n",
              " 'estas',\n",
              " 'estava',\n",
              " 'este',\n",
              " 'estes',\n",
              " 'esteve',\n",
              " 'estive',\n",
              " 'estivemos',\n",
              " 'estiveram',\n",
              " 'estiveste',\n",
              " 'estivestes',\n",
              " 'estou',\n",
              " 'está',\n",
              " 'estás',\n",
              " 'estão',\n",
              " 'eu',\n",
              " 'eventual',\n",
              " 'exemplo',\n",
              " 'falta',\n",
              " 'fará',\n",
              " 'favor',\n",
              " 'faz',\n",
              " 'fazeis',\n",
              " 'fazem',\n",
              " 'fazemos',\n",
              " 'fazer',\n",
              " 'fazes',\n",
              " 'fazia',\n",
              " 'faço',\n",
              " 'fez',\n",
              " 'fim',\n",
              " 'final',\n",
              " 'foi',\n",
              " 'fomos',\n",
              " 'for',\n",
              " 'fora',\n",
              " 'foram',\n",
              " 'forma',\n",
              " 'foste',\n",
              " 'fostes',\n",
              " 'fui',\n",
              " 'geral',\n",
              " 'grande',\n",
              " 'grandes',\n",
              " 'grupo',\n",
              " 'inclusive',\n",
              " 'iniciar',\n",
              " 'inicio',\n",
              " 'ir',\n",
              " 'irá',\n",
              " 'isso',\n",
              " 'isto',\n",
              " 'já',\n",
              " 'lado',\n",
              " 'lhe',\n",
              " 'ligado',\n",
              " 'local',\n",
              " 'logo',\n",
              " 'longe',\n",
              " 'lugar',\n",
              " 'lá',\n",
              " 'maior',\n",
              " 'maioria',\n",
              " 'maiorias',\n",
              " 'mais',\n",
              " 'mal',\n",
              " 'mas',\n",
              " 'me',\n",
              " 'meio',\n",
              " 'menor',\n",
              " 'menos',\n",
              " 'meses',\n",
              " 'mesmo',\n",
              " 'meu',\n",
              " 'meus',\n",
              " 'mil',\n",
              " 'minha',\n",
              " 'minhas',\n",
              " 'momento',\n",
              " 'muito',\n",
              " 'muitos',\n",
              " 'máximo',\n",
              " 'mês',\n",
              " 'na',\n",
              " 'nada',\n",
              " 'naquela',\n",
              " 'naquele',\n",
              " 'nas',\n",
              " 'nem',\n",
              " 'nenhuma',\n",
              " 'nessa',\n",
              " 'nesse',\n",
              " 'nesta',\n",
              " 'neste',\n",
              " 'no',\n",
              " 'nos',\n",
              " 'nossa',\n",
              " 'nossas',\n",
              " 'nosso',\n",
              " 'nossos',\n",
              " 'nova',\n",
              " 'novas',\n",
              " 'nove',\n",
              " 'novo',\n",
              " 'novos',\n",
              " 'num',\n",
              " 'numa',\n",
              " 'nunca',\n",
              " 'nuns',\n",
              " 'não',\n",
              " 'nível',\n",
              " 'nós',\n",
              " 'número',\n",
              " 'números',\n",
              " 'o',\n",
              " 'obrigada',\n",
              " 'obrigado',\n",
              " 'oitava',\n",
              " 'oitavo',\n",
              " 'oito',\n",
              " 'onde',\n",
              " 'ontem',\n",
              " 'onze',\n",
              " 'ora',\n",
              " 'os',\n",
              " 'ou',\n",
              " 'outra',\n",
              " 'outras',\n",
              " 'outros',\n",
              " 'para',\n",
              " 'parece',\n",
              " 'parte',\n",
              " 'partir',\n",
              " 'pegar',\n",
              " 'pela',\n",
              " 'pelas',\n",
              " 'pelo',\n",
              " 'pelos',\n",
              " 'perto',\n",
              " 'pode',\n",
              " 'podem',\n",
              " 'poder',\n",
              " 'poderá',\n",
              " 'podia',\n",
              " 'pois',\n",
              " 'ponto',\n",
              " 'pontos',\n",
              " 'por',\n",
              " 'porquanto',\n",
              " 'porque',\n",
              " 'porquê',\n",
              " 'portanto',\n",
              " 'porém',\n",
              " 'posição',\n",
              " 'possivelmente',\n",
              " 'posso',\n",
              " 'possível',\n",
              " 'pouca',\n",
              " 'pouco',\n",
              " 'povo',\n",
              " 'primeira',\n",
              " 'primeiro',\n",
              " 'próprio',\n",
              " 'próxima',\n",
              " 'próximo',\n",
              " 'puderam',\n",
              " 'pôde',\n",
              " 'põe',\n",
              " 'põem',\n",
              " 'quais',\n",
              " 'qual',\n",
              " 'qualquer',\n",
              " 'quando',\n",
              " 'quanto',\n",
              " 'quarta',\n",
              " 'quarto',\n",
              " 'quatro',\n",
              " 'que',\n",
              " 'quem',\n",
              " 'quer',\n",
              " 'querem',\n",
              " 'quero',\n",
              " 'questão',\n",
              " 'quieta',\n",
              " 'quieto',\n",
              " 'quinta',\n",
              " 'quinto',\n",
              " 'quinze',\n",
              " 'quê',\n",
              " 'relação',\n",
              " 'sabe',\n",
              " 'saber',\n",
              " 'se',\n",
              " 'segunda',\n",
              " 'segundo',\n",
              " 'sei',\n",
              " 'seis',\n",
              " 'sem',\n",
              " 'sempre',\n",
              " 'ser',\n",
              " 'seria',\n",
              " 'sete',\n",
              " 'seu',\n",
              " 'seus',\n",
              " 'sexta',\n",
              " 'sexto',\n",
              " 'sim',\n",
              " 'sistema',\n",
              " 'sob',\n",
              " 'sobre',\n",
              " 'sois',\n",
              " 'somente',\n",
              " 'somos',\n",
              " 'sou',\n",
              " 'sua',\n",
              " 'suas',\n",
              " 'são',\n",
              " 'sétima',\n",
              " 'sétimo',\n",
              " 'só',\n",
              " 'tais',\n",
              " 'tal',\n",
              " 'talvez',\n",
              " 'também',\n",
              " 'tanta',\n",
              " 'tanto',\n",
              " 'tarde',\n",
              " 'te',\n",
              " 'tem',\n",
              " 'temos',\n",
              " 'tempo',\n",
              " 'tendes',\n",
              " 'tenho',\n",
              " 'tens',\n",
              " 'tentar',\n",
              " 'tentaram',\n",
              " 'tente',\n",
              " 'tentei',\n",
              " 'ter',\n",
              " 'terceira',\n",
              " 'terceiro',\n",
              " 'teu',\n",
              " 'teus',\n",
              " 'teve',\n",
              " 'tipo',\n",
              " 'tive',\n",
              " 'tivemos',\n",
              " 'tiveram',\n",
              " 'tiveste',\n",
              " 'tivestes',\n",
              " 'toda',\n",
              " 'todas',\n",
              " 'todo',\n",
              " 'todos',\n",
              " 'treze',\n",
              " 'três',\n",
              " 'tu',\n",
              " 'tua',\n",
              " 'tuas',\n",
              " 'tudo',\n",
              " 'tão',\n",
              " 'têm',\n",
              " 'um',\n",
              " 'uma',\n",
              " 'umas',\n",
              " 'uns',\n",
              " 'usa',\n",
              " 'usar',\n",
              " 'vai',\n",
              " 'vais',\n",
              " 'valor',\n",
              " 'veja',\n",
              " 'vem',\n",
              " 'vens',\n",
              " 'ver',\n",
              " 'vez',\n",
              " 'vezes',\n",
              " 'vinda',\n",
              " 'vindo',\n",
              " 'vinte',\n",
              " 'você',\n",
              " 'vocês',\n",
              " 'vos',\n",
              " 'vossa',\n",
              " 'vossas',\n",
              " 'vosso',\n",
              " 'vossos',\n",
              " 'vários',\n",
              " 'vão',\n",
              " 'vêm',\n",
              " 'vós',\n",
              " 'zero',\n",
              " 'à',\n",
              " 'às',\n",
              " 'área',\n",
              " 'é',\n",
              " 'és',\n",
              " 'último'}"
            ]
          },
          "metadata": {},
          "execution_count": 13
        }
      ]
    },
    {
      "cell_type": "markdown",
      "source": [
        "Estatísticas básicas\n",
        "\n",
        "1. número de palavras no titulo das noticias"
      ],
      "metadata": {
        "id": "1ubEz9b0UPtT"
      }
    },
    {
      "cell_type": "code",
      "source": [
        "turismo['title_n_words'] = turismo['title'].apply(lambda x : len(x.split()))"
      ],
      "metadata": {
        "id": "RLK4P3cwUPaT"
      },
      "execution_count": 14,
      "outputs": []
    },
    {
      "cell_type": "code",
      "source": [
        "turismo.head()"
      ],
      "metadata": {
        "colab": {
          "base_uri": "https://localhost:8080/",
          "height": 206
        },
        "id": "zfoRbeFTUSZz",
        "outputId": "5c06751a-a744-412c-9673-fc6874312071"
      },
      "execution_count": 15,
      "outputs": [
        {
          "output_type": "execute_result",
          "data": {
            "text/plain": [
              "                                                 title  \\\n",
              "381  Latam inaugura voo direto de 15 horas entre Ch...   \n",
              "414  Turismo de Las Vegas deve se recuperar em mese...   \n",
              "522  Brasileiro cria app para economizar no passeio...   \n",
              "602       AirBnB passa a fazer reserva de restaurantes   \n",
              "609  Museus lembram quatro décadas de opressão sovi...   \n",
              "\n",
              "                                                  text        date category  \\\n",
              "381  Animem-se os que pretendem cruzar o Pacífico e...  2017-06-10  turismo   \n",
              "414  O massacre em Las Vegas afetará o turismo da c...  2017-06-10  turismo   \n",
              "522  Com cerca de 50 mil visitantes por dia, Veneza...  2017-05-10  turismo   \n",
              "602  A plataforma de hospedagem Airbnb anunciou que...  2017-05-10  turismo   \n",
              "609  Nos países que viveram sob a órbita da União S...  2017-05-10  turismo   \n",
              "\n",
              "    subcategory                                               link  \\\n",
              "381         NaN  http://www1.folha.uol.com.br/turismo/2017/10/1...   \n",
              "414         NaN  http://www1.folha.uol.com.br/turismo/2017/10/1...   \n",
              "522         NaN  http://www1.folha.uol.com.br/turismo/2017/10/1...   \n",
              "602         NaN  http://www1.folha.uol.com.br/turismo/2017/10/1...   \n",
              "609         NaN  http://www1.folha.uol.com.br/turismo/2017/10/1...   \n",
              "\n",
              "     title_n_words  \n",
              "381             11  \n",
              "414             11  \n",
              "522             11  \n",
              "602              7  \n",
              "609             10  "
            ],
            "text/html": [
              "\n",
              "  <div id=\"df-016f3f37-65d6-4911-850b-cdf4967afb6c\">\n",
              "    <div class=\"colab-df-container\">\n",
              "      <div>\n",
              "<style scoped>\n",
              "    .dataframe tbody tr th:only-of-type {\n",
              "        vertical-align: middle;\n",
              "    }\n",
              "\n",
              "    .dataframe tbody tr th {\n",
              "        vertical-align: top;\n",
              "    }\n",
              "\n",
              "    .dataframe thead th {\n",
              "        text-align: right;\n",
              "    }\n",
              "</style>\n",
              "<table border=\"1\" class=\"dataframe\">\n",
              "  <thead>\n",
              "    <tr style=\"text-align: right;\">\n",
              "      <th></th>\n",
              "      <th>title</th>\n",
              "      <th>text</th>\n",
              "      <th>date</th>\n",
              "      <th>category</th>\n",
              "      <th>subcategory</th>\n",
              "      <th>link</th>\n",
              "      <th>title_n_words</th>\n",
              "    </tr>\n",
              "  </thead>\n",
              "  <tbody>\n",
              "    <tr>\n",
              "      <th>381</th>\n",
              "      <td>Latam inaugura voo direto de 15 horas entre Ch...</td>\n",
              "      <td>Animem-se os que pretendem cruzar o Pacífico e...</td>\n",
              "      <td>2017-06-10</td>\n",
              "      <td>turismo</td>\n",
              "      <td>NaN</td>\n",
              "      <td>http://www1.folha.uol.com.br/turismo/2017/10/1...</td>\n",
              "      <td>11</td>\n",
              "    </tr>\n",
              "    <tr>\n",
              "      <th>414</th>\n",
              "      <td>Turismo de Las Vegas deve se recuperar em mese...</td>\n",
              "      <td>O massacre em Las Vegas afetará o turismo da c...</td>\n",
              "      <td>2017-06-10</td>\n",
              "      <td>turismo</td>\n",
              "      <td>NaN</td>\n",
              "      <td>http://www1.folha.uol.com.br/turismo/2017/10/1...</td>\n",
              "      <td>11</td>\n",
              "    </tr>\n",
              "    <tr>\n",
              "      <th>522</th>\n",
              "      <td>Brasileiro cria app para economizar no passeio...</td>\n",
              "      <td>Com cerca de 50 mil visitantes por dia, Veneza...</td>\n",
              "      <td>2017-05-10</td>\n",
              "      <td>turismo</td>\n",
              "      <td>NaN</td>\n",
              "      <td>http://www1.folha.uol.com.br/turismo/2017/10/1...</td>\n",
              "      <td>11</td>\n",
              "    </tr>\n",
              "    <tr>\n",
              "      <th>602</th>\n",
              "      <td>AirBnB passa a fazer reserva de restaurantes</td>\n",
              "      <td>A plataforma de hospedagem Airbnb anunciou que...</td>\n",
              "      <td>2017-05-10</td>\n",
              "      <td>turismo</td>\n",
              "      <td>NaN</td>\n",
              "      <td>http://www1.folha.uol.com.br/turismo/2017/10/1...</td>\n",
              "      <td>7</td>\n",
              "    </tr>\n",
              "    <tr>\n",
              "      <th>609</th>\n",
              "      <td>Museus lembram quatro décadas de opressão sovi...</td>\n",
              "      <td>Nos países que viveram sob a órbita da União S...</td>\n",
              "      <td>2017-05-10</td>\n",
              "      <td>turismo</td>\n",
              "      <td>NaN</td>\n",
              "      <td>http://www1.folha.uol.com.br/turismo/2017/10/1...</td>\n",
              "      <td>10</td>\n",
              "    </tr>\n",
              "  </tbody>\n",
              "</table>\n",
              "</div>\n",
              "      <button class=\"colab-df-convert\" onclick=\"convertToInteractive('df-016f3f37-65d6-4911-850b-cdf4967afb6c')\"\n",
              "              title=\"Convert this dataframe to an interactive table.\"\n",
              "              style=\"display:none;\">\n",
              "        \n",
              "  <svg xmlns=\"http://www.w3.org/2000/svg\" height=\"24px\"viewBox=\"0 0 24 24\"\n",
              "       width=\"24px\">\n",
              "    <path d=\"M0 0h24v24H0V0z\" fill=\"none\"/>\n",
              "    <path d=\"M18.56 5.44l.94 2.06.94-2.06 2.06-.94-2.06-.94-.94-2.06-.94 2.06-2.06.94zm-11 1L8.5 8.5l.94-2.06 2.06-.94-2.06-.94L8.5 2.5l-.94 2.06-2.06.94zm10 10l.94 2.06.94-2.06 2.06-.94-2.06-.94-.94-2.06-.94 2.06-2.06.94z\"/><path d=\"M17.41 7.96l-1.37-1.37c-.4-.4-.92-.59-1.43-.59-.52 0-1.04.2-1.43.59L10.3 9.45l-7.72 7.72c-.78.78-.78 2.05 0 2.83L4 21.41c.39.39.9.59 1.41.59.51 0 1.02-.2 1.41-.59l7.78-7.78 2.81-2.81c.8-.78.8-2.07 0-2.86zM5.41 20L4 18.59l7.72-7.72 1.47 1.35L5.41 20z\"/>\n",
              "  </svg>\n",
              "      </button>\n",
              "      \n",
              "  <style>\n",
              "    .colab-df-container {\n",
              "      display:flex;\n",
              "      flex-wrap:wrap;\n",
              "      gap: 12px;\n",
              "    }\n",
              "\n",
              "    .colab-df-convert {\n",
              "      background-color: #E8F0FE;\n",
              "      border: none;\n",
              "      border-radius: 50%;\n",
              "      cursor: pointer;\n",
              "      display: none;\n",
              "      fill: #1967D2;\n",
              "      height: 32px;\n",
              "      padding: 0 0 0 0;\n",
              "      width: 32px;\n",
              "    }\n",
              "\n",
              "    .colab-df-convert:hover {\n",
              "      background-color: #E2EBFA;\n",
              "      box-shadow: 0px 1px 2px rgba(60, 64, 67, 0.3), 0px 1px 3px 1px rgba(60, 64, 67, 0.15);\n",
              "      fill: #174EA6;\n",
              "    }\n",
              "\n",
              "    [theme=dark] .colab-df-convert {\n",
              "      background-color: #3B4455;\n",
              "      fill: #D2E3FC;\n",
              "    }\n",
              "\n",
              "    [theme=dark] .colab-df-convert:hover {\n",
              "      background-color: #434B5C;\n",
              "      box-shadow: 0px 1px 3px 1px rgba(0, 0, 0, 0.15);\n",
              "      filter: drop-shadow(0px 1px 2px rgba(0, 0, 0, 0.3));\n",
              "      fill: #FFFFFF;\n",
              "    }\n",
              "  </style>\n",
              "\n",
              "      <script>\n",
              "        const buttonEl =\n",
              "          document.querySelector('#df-016f3f37-65d6-4911-850b-cdf4967afb6c button.colab-df-convert');\n",
              "        buttonEl.style.display =\n",
              "          google.colab.kernel.accessAllowed ? 'block' : 'none';\n",
              "\n",
              "        async function convertToInteractive(key) {\n",
              "          const element = document.querySelector('#df-016f3f37-65d6-4911-850b-cdf4967afb6c');\n",
              "          const dataTable =\n",
              "            await google.colab.kernel.invokeFunction('convertToInteractive',\n",
              "                                                     [key], {});\n",
              "          if (!dataTable) return;\n",
              "\n",
              "          const docLinkHtml = 'Like what you see? Visit the ' +\n",
              "            '<a target=\"_blank\" href=https://colab.research.google.com/notebooks/data_table.ipynb>data table notebook</a>'\n",
              "            + ' to learn more about interactive tables.';\n",
              "          element.innerHTML = '';\n",
              "          dataTable['output_type'] = 'display_data';\n",
              "          await google.colab.output.renderOutput(dataTable, element);\n",
              "          const docLink = document.createElement('div');\n",
              "          docLink.innerHTML = docLinkHtml;\n",
              "          element.appendChild(docLink);\n",
              "        }\n",
              "      </script>\n",
              "    </div>\n",
              "  </div>\n",
              "  "
            ]
          },
          "metadata": {},
          "execution_count": 15
        }
      ]
    },
    {
      "cell_type": "markdown",
      "source": [
        "2. Número de caracteres no título das notícias"
      ],
      "metadata": {
        "id": "Mf4m9G2CUVUb"
      }
    },
    {
      "cell_type": "code",
      "source": [
        "turismo['title_n_chars'] = turismo['title'].apply(lambda x: len(x.replace(\" \",\"\")))"
      ],
      "metadata": {
        "id": "_HhRzHsgUV7T"
      },
      "execution_count": 16,
      "outputs": []
    },
    {
      "cell_type": "code",
      "source": [
        "turismo.head()"
      ],
      "metadata": {
        "colab": {
          "base_uri": "https://localhost:8080/",
          "height": 206
        },
        "id": "D3Nn-5hPUaEr",
        "outputId": "cb410b65-6218-4aa4-96f1-e49e1e58c937"
      },
      "execution_count": 17,
      "outputs": [
        {
          "output_type": "execute_result",
          "data": {
            "text/plain": [
              "                                                 title  \\\n",
              "381  Latam inaugura voo direto de 15 horas entre Ch...   \n",
              "414  Turismo de Las Vegas deve se recuperar em mese...   \n",
              "522  Brasileiro cria app para economizar no passeio...   \n",
              "602       AirBnB passa a fazer reserva de restaurantes   \n",
              "609  Museus lembram quatro décadas de opressão sovi...   \n",
              "\n",
              "                                                  text        date category  \\\n",
              "381  Animem-se os que pretendem cruzar o Pacífico e...  2017-06-10  turismo   \n",
              "414  O massacre em Las Vegas afetará o turismo da c...  2017-06-10  turismo   \n",
              "522  Com cerca de 50 mil visitantes por dia, Veneza...  2017-05-10  turismo   \n",
              "602  A plataforma de hospedagem Airbnb anunciou que...  2017-05-10  turismo   \n",
              "609  Nos países que viveram sob a órbita da União S...  2017-05-10  turismo   \n",
              "\n",
              "    subcategory                                               link  \\\n",
              "381         NaN  http://www1.folha.uol.com.br/turismo/2017/10/1...   \n",
              "414         NaN  http://www1.folha.uol.com.br/turismo/2017/10/1...   \n",
              "522         NaN  http://www1.folha.uol.com.br/turismo/2017/10/1...   \n",
              "602         NaN  http://www1.folha.uol.com.br/turismo/2017/10/1...   \n",
              "609         NaN  http://www1.folha.uol.com.br/turismo/2017/10/1...   \n",
              "\n",
              "     title_n_words  title_n_chars  \n",
              "381             11             51  \n",
              "414             11             54  \n",
              "522             11             58  \n",
              "602              7             38  \n",
              "609             10             62  "
            ],
            "text/html": [
              "\n",
              "  <div id=\"df-9a8a61c2-6926-4551-a8cc-893fa7e028e5\">\n",
              "    <div class=\"colab-df-container\">\n",
              "      <div>\n",
              "<style scoped>\n",
              "    .dataframe tbody tr th:only-of-type {\n",
              "        vertical-align: middle;\n",
              "    }\n",
              "\n",
              "    .dataframe tbody tr th {\n",
              "        vertical-align: top;\n",
              "    }\n",
              "\n",
              "    .dataframe thead th {\n",
              "        text-align: right;\n",
              "    }\n",
              "</style>\n",
              "<table border=\"1\" class=\"dataframe\">\n",
              "  <thead>\n",
              "    <tr style=\"text-align: right;\">\n",
              "      <th></th>\n",
              "      <th>title</th>\n",
              "      <th>text</th>\n",
              "      <th>date</th>\n",
              "      <th>category</th>\n",
              "      <th>subcategory</th>\n",
              "      <th>link</th>\n",
              "      <th>title_n_words</th>\n",
              "      <th>title_n_chars</th>\n",
              "    </tr>\n",
              "  </thead>\n",
              "  <tbody>\n",
              "    <tr>\n",
              "      <th>381</th>\n",
              "      <td>Latam inaugura voo direto de 15 horas entre Ch...</td>\n",
              "      <td>Animem-se os que pretendem cruzar o Pacífico e...</td>\n",
              "      <td>2017-06-10</td>\n",
              "      <td>turismo</td>\n",
              "      <td>NaN</td>\n",
              "      <td>http://www1.folha.uol.com.br/turismo/2017/10/1...</td>\n",
              "      <td>11</td>\n",
              "      <td>51</td>\n",
              "    </tr>\n",
              "    <tr>\n",
              "      <th>414</th>\n",
              "      <td>Turismo de Las Vegas deve se recuperar em mese...</td>\n",
              "      <td>O massacre em Las Vegas afetará o turismo da c...</td>\n",
              "      <td>2017-06-10</td>\n",
              "      <td>turismo</td>\n",
              "      <td>NaN</td>\n",
              "      <td>http://www1.folha.uol.com.br/turismo/2017/10/1...</td>\n",
              "      <td>11</td>\n",
              "      <td>54</td>\n",
              "    </tr>\n",
              "    <tr>\n",
              "      <th>522</th>\n",
              "      <td>Brasileiro cria app para economizar no passeio...</td>\n",
              "      <td>Com cerca de 50 mil visitantes por dia, Veneza...</td>\n",
              "      <td>2017-05-10</td>\n",
              "      <td>turismo</td>\n",
              "      <td>NaN</td>\n",
              "      <td>http://www1.folha.uol.com.br/turismo/2017/10/1...</td>\n",
              "      <td>11</td>\n",
              "      <td>58</td>\n",
              "    </tr>\n",
              "    <tr>\n",
              "      <th>602</th>\n",
              "      <td>AirBnB passa a fazer reserva de restaurantes</td>\n",
              "      <td>A plataforma de hospedagem Airbnb anunciou que...</td>\n",
              "      <td>2017-05-10</td>\n",
              "      <td>turismo</td>\n",
              "      <td>NaN</td>\n",
              "      <td>http://www1.folha.uol.com.br/turismo/2017/10/1...</td>\n",
              "      <td>7</td>\n",
              "      <td>38</td>\n",
              "    </tr>\n",
              "    <tr>\n",
              "      <th>609</th>\n",
              "      <td>Museus lembram quatro décadas de opressão sovi...</td>\n",
              "      <td>Nos países que viveram sob a órbita da União S...</td>\n",
              "      <td>2017-05-10</td>\n",
              "      <td>turismo</td>\n",
              "      <td>NaN</td>\n",
              "      <td>http://www1.folha.uol.com.br/turismo/2017/10/1...</td>\n",
              "      <td>10</td>\n",
              "      <td>62</td>\n",
              "    </tr>\n",
              "  </tbody>\n",
              "</table>\n",
              "</div>\n",
              "      <button class=\"colab-df-convert\" onclick=\"convertToInteractive('df-9a8a61c2-6926-4551-a8cc-893fa7e028e5')\"\n",
              "              title=\"Convert this dataframe to an interactive table.\"\n",
              "              style=\"display:none;\">\n",
              "        \n",
              "  <svg xmlns=\"http://www.w3.org/2000/svg\" height=\"24px\"viewBox=\"0 0 24 24\"\n",
              "       width=\"24px\">\n",
              "    <path d=\"M0 0h24v24H0V0z\" fill=\"none\"/>\n",
              "    <path d=\"M18.56 5.44l.94 2.06.94-2.06 2.06-.94-2.06-.94-.94-2.06-.94 2.06-2.06.94zm-11 1L8.5 8.5l.94-2.06 2.06-.94-2.06-.94L8.5 2.5l-.94 2.06-2.06.94zm10 10l.94 2.06.94-2.06 2.06-.94-2.06-.94-.94-2.06-.94 2.06-2.06.94z\"/><path d=\"M17.41 7.96l-1.37-1.37c-.4-.4-.92-.59-1.43-.59-.52 0-1.04.2-1.43.59L10.3 9.45l-7.72 7.72c-.78.78-.78 2.05 0 2.83L4 21.41c.39.39.9.59 1.41.59.51 0 1.02-.2 1.41-.59l7.78-7.78 2.81-2.81c.8-.78.8-2.07 0-2.86zM5.41 20L4 18.59l7.72-7.72 1.47 1.35L5.41 20z\"/>\n",
              "  </svg>\n",
              "      </button>\n",
              "      \n",
              "  <style>\n",
              "    .colab-df-container {\n",
              "      display:flex;\n",
              "      flex-wrap:wrap;\n",
              "      gap: 12px;\n",
              "    }\n",
              "\n",
              "    .colab-df-convert {\n",
              "      background-color: #E8F0FE;\n",
              "      border: none;\n",
              "      border-radius: 50%;\n",
              "      cursor: pointer;\n",
              "      display: none;\n",
              "      fill: #1967D2;\n",
              "      height: 32px;\n",
              "      padding: 0 0 0 0;\n",
              "      width: 32px;\n",
              "    }\n",
              "\n",
              "    .colab-df-convert:hover {\n",
              "      background-color: #E2EBFA;\n",
              "      box-shadow: 0px 1px 2px rgba(60, 64, 67, 0.3), 0px 1px 3px 1px rgba(60, 64, 67, 0.15);\n",
              "      fill: #174EA6;\n",
              "    }\n",
              "\n",
              "    [theme=dark] .colab-df-convert {\n",
              "      background-color: #3B4455;\n",
              "      fill: #D2E3FC;\n",
              "    }\n",
              "\n",
              "    [theme=dark] .colab-df-convert:hover {\n",
              "      background-color: #434B5C;\n",
              "      box-shadow: 0px 1px 3px 1px rgba(0, 0, 0, 0.15);\n",
              "      filter: drop-shadow(0px 1px 2px rgba(0, 0, 0, 0.3));\n",
              "      fill: #FFFFFF;\n",
              "    }\n",
              "  </style>\n",
              "\n",
              "      <script>\n",
              "        const buttonEl =\n",
              "          document.querySelector('#df-9a8a61c2-6926-4551-a8cc-893fa7e028e5 button.colab-df-convert');\n",
              "        buttonEl.style.display =\n",
              "          google.colab.kernel.accessAllowed ? 'block' : 'none';\n",
              "\n",
              "        async function convertToInteractive(key) {\n",
              "          const element = document.querySelector('#df-9a8a61c2-6926-4551-a8cc-893fa7e028e5');\n",
              "          const dataTable =\n",
              "            await google.colab.kernel.invokeFunction('convertToInteractive',\n",
              "                                                     [key], {});\n",
              "          if (!dataTable) return;\n",
              "\n",
              "          const docLinkHtml = 'Like what you see? Visit the ' +\n",
              "            '<a target=\"_blank\" href=https://colab.research.google.com/notebooks/data_table.ipynb>data table notebook</a>'\n",
              "            + ' to learn more about interactive tables.';\n",
              "          element.innerHTML = '';\n",
              "          dataTable['output_type'] = 'display_data';\n",
              "          await google.colab.output.renderOutput(dataTable, element);\n",
              "          const docLink = document.createElement('div');\n",
              "          docLink.innerHTML = docLinkHtml;\n",
              "          element.appendChild(docLink);\n",
              "        }\n",
              "      </script>\n",
              "    </div>\n",
              "  </div>\n",
              "  "
            ]
          },
          "metadata": {},
          "execution_count": 17
        }
      ]
    },
    {
      "cell_type": "code",
      "source": [
        "turismo.title_n_words.hist();\n",
        "plt.xlabel('número de palavras')\n",
        "plt.ylabel('qtd.')\n",
        "plt.grid(b=None)\n",
        "plt.show()"
      ],
      "metadata": {
        "colab": {
          "base_uri": "https://localhost:8080/",
          "height": 280
        },
        "id": "-BNiErIAUcij",
        "outputId": "89bf34ba-1f40-4be0-a2fa-49a372612332"
      },
      "execution_count": 18,
      "outputs": [
        {
          "output_type": "display_data",
          "data": {
            "text/plain": [
              "<Figure size 432x288 with 1 Axes>"
            ],
            "image/png": "[encoded data removed]"
          },
          "metadata": {
            "needs_background": "light"
          }
        }
      ]
    },
    {
      "cell_type": "code",
      "source": [
        "turismo.title_n_words.describe()"
      ],
      "metadata": {
        "colab": {
          "base_uri": "https://localhost:8080/"
        },
        "id": "yL-EPWDyUep7",
        "outputId": "494fa586-e184-4b8b-ffdd-8cb3ebcdecf9"
      },
      "execution_count": 19,
      "outputs": [
        {
          "output_type": "execute_result",
          "data": {
            "text/plain": [
              "count    1903.000000\n",
              "mean       10.923805\n",
              "std         1.812440\n",
              "min         4.000000\n",
              "25%        10.000000\n",
              "50%        11.000000\n",
              "75%        12.000000\n",
              "max        20.000000\n",
              "Name: title_n_words, dtype: float64"
            ]
          },
          "metadata": {},
          "execution_count": 19
        }
      ]
    },
    {
      "cell_type": "code",
      "source": [
        "turismo.title_n_chars.hist();\n",
        "plt.xlabel('número de caracteres')\n",
        "plt.ylabel('qtd.')\n",
        "plt.grid(b=None)\n",
        "plt.show()"
      ],
      "metadata": {
        "colab": {
          "base_uri": "https://localhost:8080/",
          "height": 279
        },
        "id": "rL7FqMZxUhjz",
        "outputId": "33acafb5-db36-4cb7-e093-4413c380ab4b"
      },
      "execution_count": 20,
      "outputs": [
        {
          "output_type": "display_data",
          "data": {
            "text/plain": [
              "<Figure size 432x288 with 1 Axes>"
            ],
            "image/png": "[encoded data removed]"
          },
          "metadata": {
            "needs_background": "light"
          }
        }
      ]
    },
    {
      "cell_type": "code",
      "source": [
        "turismo.title_n_chars.describe()"
      ],
      "metadata": {
        "colab": {
          "base_uri": "https://localhost:8080/"
        },
        "id": "4rHn9tArUi_K",
        "outputId": "d655af3f-4215-412e-e4c9-cb0b9646f6e6"
      },
      "execution_count": 21,
      "outputs": [
        {
          "output_type": "execute_result",
          "data": {
            "text/plain": [
              "count    1903.000000\n",
              "mean       55.666842\n",
              "std         6.309523\n",
              "min        25.000000\n",
              "25%        52.000000\n",
              "50%        57.000000\n",
              "75%        60.000000\n",
              "max        87.000000\n",
              "Name: title_n_chars, dtype: float64"
            ]
          },
          "metadata": {},
          "execution_count": 21
        }
      ]
    },
    {
      "cell_type": "markdown",
      "source": [
        "3. Limpando os dados, extraindo os tokens "
      ],
      "metadata": {
        "id": "fsErIUQ0UlVB"
      }
    },
    {
      "cell_type": "markdown",
      "source": [],
      "metadata": {
        "id": "DafSqA2BUoNL"
      }
    },
    {
      "cell_type": "code",
      "source": [
        "STOP_WORDS"
      ],
      "metadata": {
        "colab": {
          "base_uri": "https://localhost:8080/"
        },
        "id": "IKDpx2tqUodb",
        "outputId": "ec395e51-83b5-47f2-d4ef-04ea8d74be78"
      },
      "execution_count": 22,
      "outputs": [
        {
          "output_type": "execute_result",
          "data": {
            "text/plain": [
              "{'a',\n",
              " 'acerca',\n",
              " 'ademais',\n",
              " 'adeus',\n",
              " 'agora',\n",
              " 'ainda',\n",
              " 'algo',\n",
              " 'algumas',\n",
              " 'alguns',\n",
              " 'ali',\n",
              " 'além',\n",
              " 'ambas',\n",
              " 'ambos',\n",
              " 'antes',\n",
              " 'ao',\n",
              " 'aos',\n",
              " 'apenas',\n",
              " 'apoia',\n",
              " 'apoio',\n",
              " 'apontar',\n",
              " 'após',\n",
              " 'aquela',\n",
              " 'aquelas',\n",
              " 'aquele',\n",
              " 'aqueles',\n",
              " 'aqui',\n",
              " 'aquilo',\n",
              " 'as',\n",
              " 'assim',\n",
              " 'através',\n",
              " 'atrás',\n",
              " 'até',\n",
              " 'aí',\n",
              " 'baixo',\n",
              " 'bastante',\n",
              " 'bem',\n",
              " 'boa',\n",
              " 'bom',\n",
              " 'breve',\n",
              " 'cada',\n",
              " 'caminho',\n",
              " 'catorze',\n",
              " 'cedo',\n",
              " 'cento',\n",
              " 'certamente',\n",
              " 'certeza',\n",
              " 'cima',\n",
              " 'cinco',\n",
              " 'coisa',\n",
              " 'com',\n",
              " 'como',\n",
              " 'comprida',\n",
              " 'comprido',\n",
              " 'conhecida',\n",
              " 'conhecido',\n",
              " 'conselho',\n",
              " 'contra',\n",
              " 'contudo',\n",
              " 'corrente',\n",
              " 'cuja',\n",
              " 'cujo',\n",
              " 'custa',\n",
              " 'cá',\n",
              " 'da',\n",
              " 'daquela',\n",
              " 'daquele',\n",
              " 'dar',\n",
              " 'das',\n",
              " 'de',\n",
              " 'debaixo',\n",
              " 'demais',\n",
              " 'dentro',\n",
              " 'depois',\n",
              " 'des',\n",
              " 'desde',\n",
              " 'dessa',\n",
              " 'desse',\n",
              " 'desta',\n",
              " 'deste',\n",
              " 'deve',\n",
              " 'devem',\n",
              " 'deverá',\n",
              " 'dez',\n",
              " 'dezanove',\n",
              " 'dezasseis',\n",
              " 'dezassete',\n",
              " 'dezoito',\n",
              " 'diante',\n",
              " 'direita',\n",
              " 'disso',\n",
              " 'diz',\n",
              " 'dizem',\n",
              " 'dizer',\n",
              " 'do',\n",
              " 'dois',\n",
              " 'dos',\n",
              " 'doze',\n",
              " 'duas',\n",
              " 'dá',\n",
              " 'dão',\n",
              " 'e',\n",
              " 'ela',\n",
              " 'elas',\n",
              " 'ele',\n",
              " 'eles',\n",
              " 'em',\n",
              " 'embora',\n",
              " 'enquanto',\n",
              " 'entre',\n",
              " 'então',\n",
              " 'era',\n",
              " 'essa',\n",
              " 'essas',\n",
              " 'esse',\n",
              " 'esses',\n",
              " 'esta',\n",
              " 'estado',\n",
              " 'estar',\n",
              " 'estará',\n",
              " 'estas',\n",
              " 'estava',\n",
              " 'este',\n",
              " 'estes',\n",
              " 'esteve',\n",
              " 'estive',\n",
              " 'estivemos',\n",
              " 'estiveram',\n",
              " 'estiveste',\n",
              " 'estivestes',\n",
              " 'estou',\n",
              " 'está',\n",
              " 'estás',\n",
              " 'estão',\n",
              " 'eu',\n",
              " 'eventual',\n",
              " 'exemplo',\n",
              " 'falta',\n",
              " 'fará',\n",
              " 'favor',\n",
              " 'faz',\n",
              " 'fazeis',\n",
              " 'fazem',\n",
              " 'fazemos',\n",
              " 'fazer',\n",
              " 'fazes',\n",
              " 'fazia',\n",
              " 'faço',\n",
              " 'fez',\n",
              " 'fim',\n",
              " 'final',\n",
              " 'foi',\n",
              " 'fomos',\n",
              " 'for',\n",
              " 'fora',\n",
              " 'foram',\n",
              " 'forma',\n",
              " 'foste',\n",
              " 'fostes',\n",
              " 'fui',\n",
              " 'geral',\n",
              " 'grande',\n",
              " 'grandes',\n",
              " 'grupo',\n",
              " 'inclusive',\n",
              " 'iniciar',\n",
              " 'inicio',\n",
              " 'ir',\n",
              " 'irá',\n",
              " 'isso',\n",
              " 'isto',\n",
              " 'já',\n",
              " 'lado',\n",
              " 'lhe',\n",
              " 'ligado',\n",
              " 'local',\n",
              " 'logo',\n",
              " 'longe',\n",
              " 'lugar',\n",
              " 'lá',\n",
              " 'maior',\n",
              " 'maioria',\n",
              " 'maiorias',\n",
              " 'mais',\n",
              " 'mal',\n",
              " 'mas',\n",
              " 'me',\n",
              " 'meio',\n",
              " 'menor',\n",
              " 'menos',\n",
              " 'meses',\n",
              " 'mesmo',\n",
              " 'meu',\n",
              " 'meus',\n",
              " 'mil',\n",
              " 'minha',\n",
              " 'minhas',\n",
              " 'momento',\n",
              " 'muito',\n",
              " 'muitos',\n",
              " 'máximo',\n",
              " 'mês',\n",
              " 'na',\n",
              " 'nada',\n",
              " 'naquela',\n",
              " 'naquele',\n",
              " 'nas',\n",
              " 'nem',\n",
              " 'nenhuma',\n",
              " 'nessa',\n",
              " 'nesse',\n",
              " 'nesta',\n",
              " 'neste',\n",
              " 'no',\n",
              " 'nos',\n",
              " 'nossa',\n",
              " 'nossas',\n",
              " 'nosso',\n",
              " 'nossos',\n",
              " 'nova',\n",
              " 'novas',\n",
              " 'nove',\n",
              " 'novo',\n",
              " 'novos',\n",
              " 'num',\n",
              " 'numa',\n",
              " 'nunca',\n",
              " 'nuns',\n",
              " 'não',\n",
              " 'nível',\n",
              " 'nós',\n",
              " 'número',\n",
              " 'números',\n",
              " 'o',\n",
              " 'obrigada',\n",
              " 'obrigado',\n",
              " 'oitava',\n",
              " 'oitavo',\n",
              " 'oito',\n",
              " 'onde',\n",
              " 'ontem',\n",
              " 'onze',\n",
              " 'ora',\n",
              " 'os',\n",
              " 'ou',\n",
              " 'outra',\n",
              " 'outras',\n",
              " 'outros',\n",
              " 'para',\n",
              " 'parece',\n",
              " 'parte',\n",
              " 'partir',\n",
              " 'pegar',\n",
              " 'pela',\n",
              " 'pelas',\n",
              " 'pelo',\n",
              " 'pelos',\n",
              " 'perto',\n",
              " 'pode',\n",
              " 'podem',\n",
              " 'poder',\n",
              " 'poderá',\n",
              " 'podia',\n",
              " 'pois',\n",
              " 'ponto',\n",
              " 'pontos',\n",
              " 'por',\n",
              " 'porquanto',\n",
              " 'porque',\n",
              " 'porquê',\n",
              " 'portanto',\n",
              " 'porém',\n",
              " 'posição',\n",
              " 'possivelmente',\n",
              " 'posso',\n",
              " 'possível',\n",
              " 'pouca',\n",
              " 'pouco',\n",
              " 'povo',\n",
              " 'primeira',\n",
              " 'primeiro',\n",
              " 'próprio',\n",
              " 'próxima',\n",
              " 'próximo',\n",
              " 'puderam',\n",
              " 'pôde',\n",
              " 'põe',\n",
              " 'põem',\n",
              " 'quais',\n",
              " 'qual',\n",
              " 'qualquer',\n",
              " 'quando',\n",
              " 'quanto',\n",
              " 'quarta',\n",
              " 'quarto',\n",
              " 'quatro',\n",
              " 'que',\n",
              " 'quem',\n",
              " 'quer',\n",
              " 'querem',\n",
              " 'quero',\n",
              " 'questão',\n",
              " 'quieta',\n",
              " 'quieto',\n",
              " 'quinta',\n",
              " 'quinto',\n",
              " 'quinze',\n",
              " 'quê',\n",
              " 'relação',\n",
              " 'sabe',\n",
              " 'saber',\n",
              " 'se',\n",
              " 'segunda',\n",
              " 'segundo',\n",
              " 'sei',\n",
              " 'seis',\n",
              " 'sem',\n",
              " 'sempre',\n",
              " 'ser',\n",
              " 'seria',\n",
              " 'sete',\n",
              " 'seu',\n",
              " 'seus',\n",
              " 'sexta',\n",
              " 'sexto',\n",
              " 'sim',\n",
              " 'sistema',\n",
              " 'sob',\n",
              " 'sobre',\n",
              " 'sois',\n",
              " 'somente',\n",
              " 'somos',\n",
              " 'sou',\n",
              " 'sua',\n",
              " 'suas',\n",
              " 'são',\n",
              " 'sétima',\n",
              " 'sétimo',\n",
              " 'só',\n",
              " 'tais',\n",
              " 'tal',\n",
              " 'talvez',\n",
              " 'também',\n",
              " 'tanta',\n",
              " 'tanto',\n",
              " 'tarde',\n",
              " 'te',\n",
              " 'tem',\n",
              " 'temos',\n",
              " 'tempo',\n",
              " 'tendes',\n",
              " 'tenho',\n",
              " 'tens',\n",
              " 'tentar',\n",
              " 'tentaram',\n",
              " 'tente',\n",
              " 'tentei',\n",
              " 'ter',\n",
              " 'terceira',\n",
              " 'terceiro',\n",
              " 'teu',\n",
              " 'teus',\n",
              " 'teve',\n",
              " 'tipo',\n",
              " 'tive',\n",
              " 'tivemos',\n",
              " 'tiveram',\n",
              " 'tiveste',\n",
              " 'tivestes',\n",
              " 'toda',\n",
              " 'todas',\n",
              " 'todo',\n",
              " 'todos',\n",
              " 'treze',\n",
              " 'três',\n",
              " 'tu',\n",
              " 'tua',\n",
              " 'tuas',\n",
              " 'tudo',\n",
              " 'tão',\n",
              " 'têm',\n",
              " 'um',\n",
              " 'uma',\n",
              " 'umas',\n",
              " 'uns',\n",
              " 'usa',\n",
              " 'usar',\n",
              " 'vai',\n",
              " 'vais',\n",
              " 'valor',\n",
              " 'veja',\n",
              " 'vem',\n",
              " 'vens',\n",
              " 'ver',\n",
              " 'vez',\n",
              " 'vezes',\n",
              " 'vinda',\n",
              " 'vindo',\n",
              " 'vinte',\n",
              " 'você',\n",
              " 'vocês',\n",
              " 'vos',\n",
              " 'vossa',\n",
              " 'vossas',\n",
              " 'vosso',\n",
              " 'vossos',\n",
              " 'vários',\n",
              " 'vão',\n",
              " 'vêm',\n",
              " 'vós',\n",
              " 'zero',\n",
              " 'à',\n",
              " 'às',\n",
              " 'área',\n",
              " 'é',\n",
              " 'és',\n",
              " 'último'}"
            ]
          },
          "metadata": {},
          "execution_count": 22
        }
      ]
    },
    {
      "cell_type": "code",
      "source": [
        "STOP_WORDS.add('ao')"
      ],
      "metadata": {
        "id": "arPZ4JEYUs4y"
      },
      "execution_count": 23,
      "outputs": []
    },
    {
      "cell_type": "code",
      "source": [
        "# Obtendo um título na base de notícias\n",
        "rev = turismo.iloc[0]['title']\n",
        "rev"
      ],
      "metadata": {
        "colab": {
          "base_uri": "https://localhost:8080/",
          "height": 35
        },
        "id": "1fsuxJlBUuTi",
        "outputId": "8c266232-5455-49e0-b577-45c8b35f8623"
      },
      "execution_count": 24,
      "outputs": [
        {
          "output_type": "execute_result",
          "data": {
            "text/plain": [
              "'Latam inaugura voo direto de 15 horas entre Chile e Austrália'"
            ],
            "application/vnd.google.colaboratory.intrinsic+json": {
              "type": "string"
            }
          },
          "metadata": {},
          "execution_count": 24
        }
      ]
    },
    {
      "cell_type": "code",
      "source": [
        "#### Limpando os dados\n",
        "\n",
        "rev = limpa_texto(rev)"
      ],
      "metadata": {
        "id": "AjEZzolSUxiK"
      },
      "execution_count": 25,
      "outputs": []
    },
    {
      "cell_type": "code",
      "source": [
        "rev"
      ],
      "metadata": {
        "colab": {
          "base_uri": "https://localhost:8080/",
          "height": 35
        },
        "id": "cxbYR4zoUzIq",
        "outputId": "ce595a8d-7a99-497a-c731-34e5da2e28e3"
      },
      "execution_count": 26,
      "outputs": [
        {
          "output_type": "execute_result",
          "data": {
            "text/plain": [
              "'latam inaugura voo direto de 15 horas entre chile e austrália'"
            ],
            "application/vnd.google.colaboratory.intrinsic+json": {
              "type": "string"
            }
          },
          "metadata": {},
          "execution_count": 26
        }
      ]
    },
    {
      "cell_type": "markdown",
      "source": [
        "Observe que o texto agora está minúsculo e foram removidos caracteres não-numericos."
      ],
      "metadata": {
        "id": "P8KGQglqU1ja"
      }
    },
    {
      "cell_type": "code",
      "source": [
        "### veja outro exemplo\n",
        "rev2 = turismo.iloc[5]['title']"
      ],
      "metadata": {
        "id": "GLNhdz6GU2Ey"
      },
      "execution_count": 27,
      "outputs": []
    },
    {
      "cell_type": "code",
      "source": [
        "limpa_texto(turismo.iloc[5]['title'])"
      ],
      "metadata": {
        "colab": {
          "base_uri": "https://localhost:8080/",
          "height": 35
        },
        "id": "vyyazVPcU5m6",
        "outputId": "d2bf12f0-4039-4e74-c601-40b10a713551"
      },
      "execution_count": 60,
      "outputs": [
        {
          "output_type": "execute_result",
          "data": {
            "text/plain": [
              "'viagem ao japão é aula de cultura e tradição diz ator jayme matarazzo'"
            ],
            "application/vnd.google.colaboratory.intrinsic+json": {
              "type": "string"
            }
          },
          "metadata": {},
          "execution_count": 60
        }
      ]
    },
    {
      "cell_type": "markdown",
      "source": [
        "Verificando os tokens e o parsing"
      ],
      "metadata": {
        "id": "znddFRinU80y"
      }
    },
    {
      "cell_type": "code",
      "source": [
        "rev = nlp_pt(rev) #### Aqui acontece toda a mágica do Spacy\n",
        "\n",
        "def exibe_tokens(texto):\n",
        "    col_names = ['ALPHA', 'PUNCT', 'LIKE_NUM', 'POS']\n",
        "    formatted_text = '{:>16}' * (len(col_names) + 1)\n",
        "    print('\\n', formatted_text.format('INPUT WORD', *col_names), '\\n','='*130)\n",
        "\n",
        "    for token in texto:\n",
        "        output = [token.text, token.is_alpha, token.is_punct, token.like_num, token.pos_]\n",
        "        print(formatted_text.format(*output))\n",
        "\n",
        "\n",
        "exibe_tokens(rev)"
      ],
      "metadata": {
        "colab": {
          "base_uri": "https://localhost:8080/"
        },
        "id": "HwONAiiIU9Ry",
        "outputId": "2750bd94-c142-4def-9474-2233a16c168a"
      },
      "execution_count": 29,
      "outputs": [
        {
          "output_type": "stream",
          "name": "stdout",
          "text": [
            "\n",
            "       INPUT WORD           ALPHA           PUNCT        LIKE_NUM             POS \n",
            " ==================================================================================================================================\n",
            "           latam               1               0               0            VERB\n",
            "        inaugura               1               0               0            VERB\n",
            "             voo               1               0               0            NOUN\n",
            "          direto               1               0               0             ADJ\n",
            "              de               1               0               0             ADP\n",
            "              15               0               0               1             NUM\n",
            "           horas               1               0               0            NOUN\n",
            "           entre               1               0               0             ADP\n",
            "           chile               1               0               0           PROPN\n",
            "               e               1               0               0           CCONJ\n",
            "       austrália               1               0               0            VERB\n"
          ]
        }
      ]
    },
    {
      "cell_type": "code",
      "source": [
        "from spacy import displacy\n",
        "displacy.render(rev, style='dep', jupyter=True)"
      ],
      "metadata": {
        "colab": {
          "base_uri": "https://localhost:8080/",
          "height": 528
        },
        "id": "LSBS8lEzVAIK",
        "outputId": "4a29178b-3775-44ac-d96f-9c9b988141da"
      },
      "execution_count": 30,
      "outputs": [
        {
          "output_type": "display_data",
          "data": {
            "text/plain": [
              "<IPython.core.display.HTML object>"
            ],
            "text/html": [
              "<span class=\"tex2jax_ignore\"><svg xmlns=\"http://www.w3.org/2000/svg\" xmlns:xlink=\"http://www.w3.org/1999/xlink\" xml:lang=\"pt\" id=\"a6761eceb94d43279d6dabaf9c27a6bb-0\" class=\"displacy\" width=\"1975\" height=\"487.0\" direction=\"ltr\" style=\"max-width: none; height: 487.0px; color: #000000; background: #ffffff; font-family: Arial; direction: ltr\">\n",
              "<text class=\"displacy-token\" fill=\"currentColor\" text-anchor=\"middle\" y=\"397.0\">\n",
              "    <tspan class=\"displacy-word\" fill=\"currentColor\" x=\"50\">latam</tspan>\n",
              "    <tspan class=\"displacy-tag\" dy=\"2em\" fill=\"currentColor\" x=\"50\">VERB</tspan>\n",
              "</text>\n",
              "\n",
              "<text class=\"displacy-token\" fill=\"currentColor\" text-anchor=\"middle\" y=\"397.0\">\n",
              "    <tspan class=\"displacy-word\" fill=\"currentColor\" x=\"225\">inaugura</tspan>\n",
              "    <tspan class=\"displacy-tag\" dy=\"2em\" fill=\"currentColor\" x=\"225\">VERB</tspan>\n",
              "</text>\n",
              "\n",
              "<text class=\"displacy-token\" fill=\"currentColor\" text-anchor=\"middle\" y=\"397.0\">\n",
              "    <tspan class=\"displacy-word\" fill=\"currentColor\" x=\"400\">voo</tspan>\n",
              "    <tspan class=\"displacy-tag\" dy=\"2em\" fill=\"currentColor\" x=\"400\">NOUN</tspan>\n",
              "</text>\n",
              "\n",
              "<text class=\"displacy-token\" fill=\"currentColor\" text-anchor=\"middle\" y=\"397.0\">\n",
              "    <tspan class=\"displacy-word\" fill=\"currentColor\" x=\"575\">direto</tspan>\n",
              "    <tspan class=\"displacy-tag\" dy=\"2em\" fill=\"currentColor\" x=\"575\">ADJ</tspan>\n",
              "</text>\n",
              "\n",
              "<text class=\"displacy-token\" fill=\"currentColor\" text-anchor=\"middle\" y=\"397.0\">\n",
              "    <tspan class=\"displacy-word\" fill=\"currentColor\" x=\"750\">de</tspan>\n",
              "    <tspan class=\"displacy-tag\" dy=\"2em\" fill=\"currentColor\" x=\"750\">ADP</tspan>\n",
              "</text>\n",
              "\n",
              "<text class=\"displacy-token\" fill=\"currentColor\" text-anchor=\"middle\" y=\"397.0\">\n",
              "    <tspan class=\"displacy-word\" fill=\"currentColor\" x=\"925\">15</tspan>\n",
              "    <tspan class=\"displacy-tag\" dy=\"2em\" fill=\"currentColor\" x=\"925\">NUM</tspan>\n",
              "</text>\n",
              "\n",
              "<text class=\"displacy-token\" fill=\"currentColor\" text-anchor=\"middle\" y=\"397.0\">\n",
              "    <tspan class=\"displacy-word\" fill=\"currentColor\" x=\"1100\">horas</tspan>\n",
              "    <tspan class=\"displacy-tag\" dy=\"2em\" fill=\"currentColor\" x=\"1100\">NOUN</tspan>\n",
              "</text>\n",
              "\n",
              "<text class=\"displacy-token\" fill=\"currentColor\" text-anchor=\"middle\" y=\"397.0\">\n",
              "    <tspan class=\"displacy-word\" fill=\"currentColor\" x=\"1275\">entre</tspan>\n",
              "    <tspan class=\"displacy-tag\" dy=\"2em\" fill=\"currentColor\" x=\"1275\">ADP</tspan>\n",
              "</text>\n",
              "\n",
              "<text class=\"displacy-token\" fill=\"currentColor\" text-anchor=\"middle\" y=\"397.0\">\n",
              "    <tspan class=\"displacy-word\" fill=\"currentColor\" x=\"1450\">chile</tspan>\n",
              "    <tspan class=\"displacy-tag\" dy=\"2em\" fill=\"currentColor\" x=\"1450\">PROPN</tspan>\n",
              "</text>\n",
              "\n",
              "<text class=\"displacy-token\" fill=\"currentColor\" text-anchor=\"middle\" y=\"397.0\">\n",
              "    <tspan class=\"displacy-word\" fill=\"currentColor\" x=\"1625\">e</tspan>\n",
              "    <tspan class=\"displacy-tag\" dy=\"2em\" fill=\"currentColor\" x=\"1625\">CCONJ</tspan>\n",
              "</text>\n",
              "\n",
              "<text class=\"displacy-token\" fill=\"currentColor\" text-anchor=\"middle\" y=\"397.0\">\n",
              "    <tspan class=\"displacy-word\" fill=\"currentColor\" x=\"1800\">austrália</tspan>\n",
              "    <tspan class=\"displacy-tag\" dy=\"2em\" fill=\"currentColor\" x=\"1800\">VERB</tspan>\n",
              "</text>\n",
              "\n",
              "<g class=\"displacy-arrow\">\n",
              "    <path class=\"displacy-arc\" id=\"arrow-a6761eceb94d43279d6dabaf9c27a6bb-0-0\" stroke-width=\"2px\" d=\"M70,352.0 C70,264.5 210.0,264.5 210.0,352.0\" fill=\"none\" stroke=\"currentColor\"/>\n",
              "    <text dy=\"1.25em\" style=\"font-size: 0.8em; letter-spacing: 1px\">\n",
              "        <textPath xlink:href=\"#arrow-a6761eceb94d43279d6dabaf9c27a6bb-0-0\" class=\"displacy-label\" startOffset=\"50%\" side=\"left\" fill=\"currentColor\" text-anchor=\"middle\">advcl</textPath>\n",
              "    </text>\n",
              "    <path class=\"displacy-arrowhead\" d=\"M210.0,354.0 L218.0,342.0 202.0,342.0\" fill=\"currentColor\"/>\n",
              "</g>\n",
              "\n",
              "<g class=\"displacy-arrow\">\n",
              "    <path class=\"displacy-arc\" id=\"arrow-a6761eceb94d43279d6dabaf9c27a6bb-0-1\" stroke-width=\"2px\" d=\"M245,352.0 C245,264.5 385.0,264.5 385.0,352.0\" fill=\"none\" stroke=\"currentColor\"/>\n",
              "    <text dy=\"1.25em\" style=\"font-size: 0.8em; letter-spacing: 1px\">\n",
              "        <textPath xlink:href=\"#arrow-a6761eceb94d43279d6dabaf9c27a6bb-0-1\" class=\"displacy-label\" startOffset=\"50%\" side=\"left\" fill=\"currentColor\" text-anchor=\"middle\">obj</textPath>\n",
              "    </text>\n",
              "    <path class=\"displacy-arrowhead\" d=\"M385.0,354.0 L393.0,342.0 377.0,342.0\" fill=\"currentColor\"/>\n",
              "</g>\n",
              "\n",
              "<g class=\"displacy-arrow\">\n",
              "    <path class=\"displacy-arc\" id=\"arrow-a6761eceb94d43279d6dabaf9c27a6bb-0-2\" stroke-width=\"2px\" d=\"M420,352.0 C420,264.5 560.0,264.5 560.0,352.0\" fill=\"none\" stroke=\"currentColor\"/>\n",
              "    <text dy=\"1.25em\" style=\"font-size: 0.8em; letter-spacing: 1px\">\n",
              "        <textPath xlink:href=\"#arrow-a6761eceb94d43279d6dabaf9c27a6bb-0-2\" class=\"displacy-label\" startOffset=\"50%\" side=\"left\" fill=\"currentColor\" text-anchor=\"middle\">amod</textPath>\n",
              "    </text>\n",
              "    <path class=\"displacy-arrowhead\" d=\"M560.0,354.0 L568.0,342.0 552.0,342.0\" fill=\"currentColor\"/>\n",
              "</g>\n",
              "\n",
              "<g class=\"displacy-arrow\">\n",
              "    <path class=\"displacy-arc\" id=\"arrow-a6761eceb94d43279d6dabaf9c27a6bb-0-3\" stroke-width=\"2px\" d=\"M770,352.0 C770,177.0 1090.0,177.0 1090.0,352.0\" fill=\"none\" stroke=\"currentColor\"/>\n",
              "    <text dy=\"1.25em\" style=\"font-size: 0.8em; letter-spacing: 1px\">\n",
              "        <textPath xlink:href=\"#arrow-a6761eceb94d43279d6dabaf9c27a6bb-0-3\" class=\"displacy-label\" startOffset=\"50%\" side=\"left\" fill=\"currentColor\" text-anchor=\"middle\">case</textPath>\n",
              "    </text>\n",
              "    <path class=\"displacy-arrowhead\" d=\"M770,354.0 L762,342.0 778,342.0\" fill=\"currentColor\"/>\n",
              "</g>\n",
              "\n",
              "<g class=\"displacy-arrow\">\n",
              "    <path class=\"displacy-arc\" id=\"arrow-a6761eceb94d43279d6dabaf9c27a6bb-0-4\" stroke-width=\"2px\" d=\"M945,352.0 C945,264.5 1085.0,264.5 1085.0,352.0\" fill=\"none\" stroke=\"currentColor\"/>\n",
              "    <text dy=\"1.25em\" style=\"font-size: 0.8em; letter-spacing: 1px\">\n",
              "        <textPath xlink:href=\"#arrow-a6761eceb94d43279d6dabaf9c27a6bb-0-4\" class=\"displacy-label\" startOffset=\"50%\" side=\"left\" fill=\"currentColor\" text-anchor=\"middle\">nummod</textPath>\n",
              "    </text>\n",
              "    <path class=\"displacy-arrowhead\" d=\"M945,354.0 L937,342.0 953,342.0\" fill=\"currentColor\"/>\n",
              "</g>\n",
              "\n",
              "<g class=\"displacy-arrow\">\n",
              "    <path class=\"displacy-arc\" id=\"arrow-a6761eceb94d43279d6dabaf9c27a6bb-0-5\" stroke-width=\"2px\" d=\"M420,352.0 C420,89.5 1095.0,89.5 1095.0,352.0\" fill=\"none\" stroke=\"currentColor\"/>\n",
              "    <text dy=\"1.25em\" style=\"font-size: 0.8em; letter-spacing: 1px\">\n",
              "        <textPath xlink:href=\"#arrow-a6761eceb94d43279d6dabaf9c27a6bb-0-5\" class=\"displacy-label\" startOffset=\"50%\" side=\"left\" fill=\"currentColor\" text-anchor=\"middle\">nmod</textPath>\n",
              "    </text>\n",
              "    <path class=\"displacy-arrowhead\" d=\"M1095.0,354.0 L1103.0,342.0 1087.0,342.0\" fill=\"currentColor\"/>\n",
              "</g>\n",
              "\n",
              "<g class=\"displacy-arrow\">\n",
              "    <path class=\"displacy-arc\" id=\"arrow-a6761eceb94d43279d6dabaf9c27a6bb-0-6\" stroke-width=\"2px\" d=\"M1295,352.0 C1295,264.5 1435.0,264.5 1435.0,352.0\" fill=\"none\" stroke=\"currentColor\"/>\n",
              "    <text dy=\"1.25em\" style=\"font-size: 0.8em; letter-spacing: 1px\">\n",
              "        <textPath xlink:href=\"#arrow-a6761eceb94d43279d6dabaf9c27a6bb-0-6\" class=\"displacy-label\" startOffset=\"50%\" side=\"left\" fill=\"currentColor\" text-anchor=\"middle\">case</textPath>\n",
              "    </text>\n",
              "    <path class=\"displacy-arrowhead\" d=\"M1295,354.0 L1287,342.0 1303,342.0\" fill=\"currentColor\"/>\n",
              "</g>\n",
              "\n",
              "<g class=\"displacy-arrow\">\n",
              "    <path class=\"displacy-arc\" id=\"arrow-a6761eceb94d43279d6dabaf9c27a6bb-0-7\" stroke-width=\"2px\" d=\"M1120,352.0 C1120,177.0 1440.0,177.0 1440.0,352.0\" fill=\"none\" stroke=\"currentColor\"/>\n",
              "    <text dy=\"1.25em\" style=\"font-size: 0.8em; letter-spacing: 1px\">\n",
              "        <textPath xlink:href=\"#arrow-a6761eceb94d43279d6dabaf9c27a6bb-0-7\" class=\"displacy-label\" startOffset=\"50%\" side=\"left\" fill=\"currentColor\" text-anchor=\"middle\">nmod</textPath>\n",
              "    </text>\n",
              "    <path class=\"displacy-arrowhead\" d=\"M1440.0,354.0 L1448.0,342.0 1432.0,342.0\" fill=\"currentColor\"/>\n",
              "</g>\n",
              "\n",
              "<g class=\"displacy-arrow\">\n",
              "    <path class=\"displacy-arc\" id=\"arrow-a6761eceb94d43279d6dabaf9c27a6bb-0-8\" stroke-width=\"2px\" d=\"M1645,352.0 C1645,264.5 1785.0,264.5 1785.0,352.0\" fill=\"none\" stroke=\"currentColor\"/>\n",
              "    <text dy=\"1.25em\" style=\"font-size: 0.8em; letter-spacing: 1px\">\n",
              "        <textPath xlink:href=\"#arrow-a6761eceb94d43279d6dabaf9c27a6bb-0-8\" class=\"displacy-label\" startOffset=\"50%\" side=\"left\" fill=\"currentColor\" text-anchor=\"middle\">cc</textPath>\n",
              "    </text>\n",
              "    <path class=\"displacy-arrowhead\" d=\"M1645,354.0 L1637,342.0 1653,342.0\" fill=\"currentColor\"/>\n",
              "</g>\n",
              "\n",
              "<g class=\"displacy-arrow\">\n",
              "    <path class=\"displacy-arc\" id=\"arrow-a6761eceb94d43279d6dabaf9c27a6bb-0-9\" stroke-width=\"2px\" d=\"M245,352.0 C245,2.0 1800.0,2.0 1800.0,352.0\" fill=\"none\" stroke=\"currentColor\"/>\n",
              "    <text dy=\"1.25em\" style=\"font-size: 0.8em; letter-spacing: 1px\">\n",
              "        <textPath xlink:href=\"#arrow-a6761eceb94d43279d6dabaf9c27a6bb-0-9\" class=\"displacy-label\" startOffset=\"50%\" side=\"left\" fill=\"currentColor\" text-anchor=\"middle\">conj</textPath>\n",
              "    </text>\n",
              "    <path class=\"displacy-arrowhead\" d=\"M1800.0,354.0 L1808.0,342.0 1792.0,342.0\" fill=\"currentColor\"/>\n",
              "</g>\n",
              "</svg></span>"
            ]
          },
          "metadata": {}
        }
      ]
    },
    {
      "cell_type": "code",
      "source": [
        "rev2 = limpa_texto(turismo.iloc[5]['title'])"
      ],
      "metadata": {
        "id": "k7TevrkMVCZC"
      },
      "execution_count": 31,
      "outputs": []
    },
    {
      "cell_type": "code",
      "source": [
        "rev2 = nlp_pt(rev2)\n",
        "exibe_tokens(rev2)"
      ],
      "metadata": {
        "colab": {
          "base_uri": "https://localhost:8080/"
        },
        "id": "IxrvQNmCVDH6",
        "outputId": "b4e36078-93a8-4314-bc03-68dfe2e4a456"
      },
      "execution_count": 32,
      "outputs": [
        {
          "output_type": "stream",
          "name": "stdout",
          "text": [
            "\n",
            "       INPUT WORD           ALPHA           PUNCT        LIKE_NUM             POS \n",
            " ==================================================================================================================================\n",
            "          viagem               1               0               0            NOUN\n",
            "              ao               1               0               0             ADP\n",
            "           japão               1               0               0           PROPN\n",
            "               é               1               0               0             AUX\n",
            "            aula               1               0               0            NOUN\n",
            "              de               1               0               0             ADP\n",
            "         cultura               1               0               0            NOUN\n",
            "               e               1               0               0           CCONJ\n",
            "        tradição               1               0               0            NOUN\n",
            "             diz               1               0               0            VERB\n",
            "            ator               1               0               0            NOUN\n",
            "           jayme               1               0               0           PROPN\n",
            "       matarazzo               1               0               0           PROPN\n"
          ]
        }
      ]
    },
    {
      "cell_type": "code",
      "source": [
        "displacy.render(rev2, style=\"dep\", jupyter=True)"
      ],
      "metadata": {
        "colab": {
          "base_uri": "https://localhost:8080/",
          "height": 441
        },
        "id": "mu1wTCm9VF1z",
        "outputId": "7ae7ee3c-6fef-4a6f-de89-3168a2a2a867"
      },
      "execution_count": 33,
      "outputs": [
        {
          "output_type": "display_data",
          "data": {
            "text/plain": [
              "<IPython.core.display.HTML object>"
            ],
            "text/html": [
              "<span class=\"tex2jax_ignore\"><svg xmlns=\"http://www.w3.org/2000/svg\" xmlns:xlink=\"http://www.w3.org/1999/xlink\" xml:lang=\"pt\" id=\"6475d15115364a9aa714a00d3ae9fc52-0\" class=\"displacy\" width=\"2325\" height=\"399.5\" direction=\"ltr\" style=\"max-width: none; height: 399.5px; color: #000000; background: #ffffff; font-family: Arial; direction: ltr\">\n",
              "<text class=\"displacy-token\" fill=\"currentColor\" text-anchor=\"middle\" y=\"309.5\">\n",
              "    <tspan class=\"displacy-word\" fill=\"currentColor\" x=\"50\">viagem</tspan>\n",
              "    <tspan class=\"displacy-tag\" dy=\"2em\" fill=\"currentColor\" x=\"50\">NOUN</tspan>\n",
              "</text>\n",
              "\n",
              "<text class=\"displacy-token\" fill=\"currentColor\" text-anchor=\"middle\" y=\"309.5\">\n",
              "    <tspan class=\"displacy-word\" fill=\"currentColor\" x=\"225\">ao</tspan>\n",
              "    <tspan class=\"displacy-tag\" dy=\"2em\" fill=\"currentColor\" x=\"225\">ADP</tspan>\n",
              "</text>\n",
              "\n",
              "<text class=\"displacy-token\" fill=\"currentColor\" text-anchor=\"middle\" y=\"309.5\">\n",
              "    <tspan class=\"displacy-word\" fill=\"currentColor\" x=\"400\">japão</tspan>\n",
              "    <tspan class=\"displacy-tag\" dy=\"2em\" fill=\"currentColor\" x=\"400\">PROPN</tspan>\n",
              "</text>\n",
              "\n",
              "<text class=\"displacy-token\" fill=\"currentColor\" text-anchor=\"middle\" y=\"309.5\">\n",
              "    <tspan class=\"displacy-word\" fill=\"currentColor\" x=\"575\">é</tspan>\n",
              "    <tspan class=\"displacy-tag\" dy=\"2em\" fill=\"currentColor\" x=\"575\">AUX</tspan>\n",
              "</text>\n",
              "\n",
              "<text class=\"displacy-token\" fill=\"currentColor\" text-anchor=\"middle\" y=\"309.5\">\n",
              "    <tspan class=\"displacy-word\" fill=\"currentColor\" x=\"750\">aula</tspan>\n",
              "    <tspan class=\"displacy-tag\" dy=\"2em\" fill=\"currentColor\" x=\"750\">NOUN</tspan>\n",
              "</text>\n",
              "\n",
              "<text class=\"displacy-token\" fill=\"currentColor\" text-anchor=\"middle\" y=\"309.5\">\n",
              "    <tspan class=\"displacy-word\" fill=\"currentColor\" x=\"925\">de</tspan>\n",
              "    <tspan class=\"displacy-tag\" dy=\"2em\" fill=\"currentColor\" x=\"925\">ADP</tspan>\n",
              "</text>\n",
              "\n",
              "<text class=\"displacy-token\" fill=\"currentColor\" text-anchor=\"middle\" y=\"309.5\">\n",
              "    <tspan class=\"displacy-word\" fill=\"currentColor\" x=\"1100\">cultura</tspan>\n",
              "    <tspan class=\"displacy-tag\" dy=\"2em\" fill=\"currentColor\" x=\"1100\">NOUN</tspan>\n",
              "</text>\n",
              "\n",
              "<text class=\"displacy-token\" fill=\"currentColor\" text-anchor=\"middle\" y=\"309.5\">\n",
              "    <tspan class=\"displacy-word\" fill=\"currentColor\" x=\"1275\">e</tspan>\n",
              "    <tspan class=\"displacy-tag\" dy=\"2em\" fill=\"currentColor\" x=\"1275\">CCONJ</tspan>\n",
              "</text>\n",
              "\n",
              "<text class=\"displacy-token\" fill=\"currentColor\" text-anchor=\"middle\" y=\"309.5\">\n",
              "    <tspan class=\"displacy-word\" fill=\"currentColor\" x=\"1450\">tradição</tspan>\n",
              "    <tspan class=\"displacy-tag\" dy=\"2em\" fill=\"currentColor\" x=\"1450\">NOUN</tspan>\n",
              "</text>\n",
              "\n",
              "<text class=\"displacy-token\" fill=\"currentColor\" text-anchor=\"middle\" y=\"309.5\">\n",
              "    <tspan class=\"displacy-word\" fill=\"currentColor\" x=\"1625\">diz</tspan>\n",
              "    <tspan class=\"displacy-tag\" dy=\"2em\" fill=\"currentColor\" x=\"1625\">VERB</tspan>\n",
              "</text>\n",
              "\n",
              "<text class=\"displacy-token\" fill=\"currentColor\" text-anchor=\"middle\" y=\"309.5\">\n",
              "    <tspan class=\"displacy-word\" fill=\"currentColor\" x=\"1800\">ator</tspan>\n",
              "    <tspan class=\"displacy-tag\" dy=\"2em\" fill=\"currentColor\" x=\"1800\">NOUN</tspan>\n",
              "</text>\n",
              "\n",
              "<text class=\"displacy-token\" fill=\"currentColor\" text-anchor=\"middle\" y=\"309.5\">\n",
              "    <tspan class=\"displacy-word\" fill=\"currentColor\" x=\"1975\">jayme</tspan>\n",
              "    <tspan class=\"displacy-tag\" dy=\"2em\" fill=\"currentColor\" x=\"1975\">PROPN</tspan>\n",
              "</text>\n",
              "\n",
              "<text class=\"displacy-token\" fill=\"currentColor\" text-anchor=\"middle\" y=\"309.5\">\n",
              "    <tspan class=\"displacy-word\" fill=\"currentColor\" x=\"2150\">matarazzo</tspan>\n",
              "    <tspan class=\"displacy-tag\" dy=\"2em\" fill=\"currentColor\" x=\"2150\">PROPN</tspan>\n",
              "</text>\n",
              "\n",
              "<g class=\"displacy-arrow\">\n",
              "    <path class=\"displacy-arc\" id=\"arrow-6475d15115364a9aa714a00d3ae9fc52-0-0\" stroke-width=\"2px\" d=\"M70,264.5 C70,2.0 750.0,2.0 750.0,264.5\" fill=\"none\" stroke=\"currentColor\"/>\n",
              "    <text dy=\"1.25em\" style=\"font-size: 0.8em; letter-spacing: 1px\">\n",
              "        <textPath xlink:href=\"#arrow-6475d15115364a9aa714a00d3ae9fc52-0-0\" class=\"displacy-label\" startOffset=\"50%\" side=\"left\" fill=\"currentColor\" text-anchor=\"middle\">nsubj</textPath>\n",
              "    </text>\n",
              "    <path class=\"displacy-arrowhead\" d=\"M70,266.5 L62,254.5 78,254.5\" fill=\"currentColor\"/>\n",
              "</g>\n",
              "\n",
              "<g class=\"displacy-arrow\">\n",
              "    <path class=\"displacy-arc\" id=\"arrow-6475d15115364a9aa714a00d3ae9fc52-0-1\" stroke-width=\"2px\" d=\"M245,264.5 C245,177.0 390.0,177.0 390.0,264.5\" fill=\"none\" stroke=\"currentColor\"/>\n",
              "    <text dy=\"1.25em\" style=\"font-size: 0.8em; letter-spacing: 1px\">\n",
              "        <textPath xlink:href=\"#arrow-6475d15115364a9aa714a00d3ae9fc52-0-1\" class=\"displacy-label\" startOffset=\"50%\" side=\"left\" fill=\"currentColor\" text-anchor=\"middle\">case</textPath>\n",
              "    </text>\n",
              "    <path class=\"displacy-arrowhead\" d=\"M245,266.5 L237,254.5 253,254.5\" fill=\"currentColor\"/>\n",
              "</g>\n",
              "\n",
              "<g class=\"displacy-arrow\">\n",
              "    <path class=\"displacy-arc\" id=\"arrow-6475d15115364a9aa714a00d3ae9fc52-0-2\" stroke-width=\"2px\" d=\"M70,264.5 C70,89.5 395.0,89.5 395.0,264.5\" fill=\"none\" stroke=\"currentColor\"/>\n",
              "    <text dy=\"1.25em\" style=\"font-size: 0.8em; letter-spacing: 1px\">\n",
              "        <textPath xlink:href=\"#arrow-6475d15115364a9aa714a00d3ae9fc52-0-2\" class=\"displacy-label\" startOffset=\"50%\" side=\"left\" fill=\"currentColor\" text-anchor=\"middle\">nmod</textPath>\n",
              "    </text>\n",
              "    <path class=\"displacy-arrowhead\" d=\"M395.0,266.5 L403.0,254.5 387.0,254.5\" fill=\"currentColor\"/>\n",
              "</g>\n",
              "\n",
              "<g class=\"displacy-arrow\">\n",
              "    <path class=\"displacy-arc\" id=\"arrow-6475d15115364a9aa714a00d3ae9fc52-0-3\" stroke-width=\"2px\" d=\"M595,264.5 C595,177.0 740.0,177.0 740.0,264.5\" fill=\"none\" stroke=\"currentColor\"/>\n",
              "    <text dy=\"1.25em\" style=\"font-size: 0.8em; letter-spacing: 1px\">\n",
              "        <textPath xlink:href=\"#arrow-6475d15115364a9aa714a00d3ae9fc52-0-3\" class=\"displacy-label\" startOffset=\"50%\" side=\"left\" fill=\"currentColor\" text-anchor=\"middle\">cop</textPath>\n",
              "    </text>\n",
              "    <path class=\"displacy-arrowhead\" d=\"M595,266.5 L587,254.5 603,254.5\" fill=\"currentColor\"/>\n",
              "</g>\n",
              "\n",
              "<g class=\"displacy-arrow\">\n",
              "    <path class=\"displacy-arc\" id=\"arrow-6475d15115364a9aa714a00d3ae9fc52-0-4\" stroke-width=\"2px\" d=\"M770,264.5 C770,2.0 1625.0,2.0 1625.0,264.5\" fill=\"none\" stroke=\"currentColor\"/>\n",
              "    <text dy=\"1.25em\" style=\"font-size: 0.8em; letter-spacing: 1px\">\n",
              "        <textPath xlink:href=\"#arrow-6475d15115364a9aa714a00d3ae9fc52-0-4\" class=\"displacy-label\" startOffset=\"50%\" side=\"left\" fill=\"currentColor\" text-anchor=\"middle\">ccomp</textPath>\n",
              "    </text>\n",
              "    <path class=\"displacy-arrowhead\" d=\"M770,266.5 L762,254.5 778,254.5\" fill=\"currentColor\"/>\n",
              "</g>\n",
              "\n",
              "<g class=\"displacy-arrow\">\n",
              "    <path class=\"displacy-arc\" id=\"arrow-6475d15115364a9aa714a00d3ae9fc52-0-5\" stroke-width=\"2px\" d=\"M945,264.5 C945,177.0 1090.0,177.0 1090.0,264.5\" fill=\"none\" stroke=\"currentColor\"/>\n",
              "    <text dy=\"1.25em\" style=\"font-size: 0.8em; letter-spacing: 1px\">\n",
              "        <textPath xlink:href=\"#arrow-6475d15115364a9aa714a00d3ae9fc52-0-5\" class=\"displacy-label\" startOffset=\"50%\" side=\"left\" fill=\"currentColor\" text-anchor=\"middle\">case</textPath>\n",
              "    </text>\n",
              "    <path class=\"displacy-arrowhead\" d=\"M945,266.5 L937,254.5 953,254.5\" fill=\"currentColor\"/>\n",
              "</g>\n",
              "\n",
              "<g class=\"displacy-arrow\">\n",
              "    <path class=\"displacy-arc\" id=\"arrow-6475d15115364a9aa714a00d3ae9fc52-0-6\" stroke-width=\"2px\" d=\"M770,264.5 C770,89.5 1095.0,89.5 1095.0,264.5\" fill=\"none\" stroke=\"currentColor\"/>\n",
              "    <text dy=\"1.25em\" style=\"font-size: 0.8em; letter-spacing: 1px\">\n",
              "        <textPath xlink:href=\"#arrow-6475d15115364a9aa714a00d3ae9fc52-0-6\" class=\"displacy-label\" startOffset=\"50%\" side=\"left\" fill=\"currentColor\" text-anchor=\"middle\">nmod</textPath>\n",
              "    </text>\n",
              "    <path class=\"displacy-arrowhead\" d=\"M1095.0,266.5 L1103.0,254.5 1087.0,254.5\" fill=\"currentColor\"/>\n",
              "</g>\n",
              "\n",
              "<g class=\"displacy-arrow\">\n",
              "    <path class=\"displacy-arc\" id=\"arrow-6475d15115364a9aa714a00d3ae9fc52-0-7\" stroke-width=\"2px\" d=\"M1295,264.5 C1295,177.0 1440.0,177.0 1440.0,264.5\" fill=\"none\" stroke=\"currentColor\"/>\n",
              "    <text dy=\"1.25em\" style=\"font-size: 0.8em; letter-spacing: 1px\">\n",
              "        <textPath xlink:href=\"#arrow-6475d15115364a9aa714a00d3ae9fc52-0-7\" class=\"displacy-label\" startOffset=\"50%\" side=\"left\" fill=\"currentColor\" text-anchor=\"middle\">cc</textPath>\n",
              "    </text>\n",
              "    <path class=\"displacy-arrowhead\" d=\"M1295,266.5 L1287,254.5 1303,254.5\" fill=\"currentColor\"/>\n",
              "</g>\n",
              "\n",
              "<g class=\"displacy-arrow\">\n",
              "    <path class=\"displacy-arc\" id=\"arrow-6475d15115364a9aa714a00d3ae9fc52-0-8\" stroke-width=\"2px\" d=\"M1120,264.5 C1120,89.5 1445.0,89.5 1445.0,264.5\" fill=\"none\" stroke=\"currentColor\"/>\n",
              "    <text dy=\"1.25em\" style=\"font-size: 0.8em; letter-spacing: 1px\">\n",
              "        <textPath xlink:href=\"#arrow-6475d15115364a9aa714a00d3ae9fc52-0-8\" class=\"displacy-label\" startOffset=\"50%\" side=\"left\" fill=\"currentColor\" text-anchor=\"middle\">conj</textPath>\n",
              "    </text>\n",
              "    <path class=\"displacy-arrowhead\" d=\"M1445.0,266.5 L1453.0,254.5 1437.0,254.5\" fill=\"currentColor\"/>\n",
              "</g>\n",
              "\n",
              "<g class=\"displacy-arrow\">\n",
              "    <path class=\"displacy-arc\" id=\"arrow-6475d15115364a9aa714a00d3ae9fc52-0-9\" stroke-width=\"2px\" d=\"M1645,264.5 C1645,177.0 1790.0,177.0 1790.0,264.5\" fill=\"none\" stroke=\"currentColor\"/>\n",
              "    <text dy=\"1.25em\" style=\"font-size: 0.8em; letter-spacing: 1px\">\n",
              "        <textPath xlink:href=\"#arrow-6475d15115364a9aa714a00d3ae9fc52-0-9\" class=\"displacy-label\" startOffset=\"50%\" side=\"left\" fill=\"currentColor\" text-anchor=\"middle\">nsubj</textPath>\n",
              "    </text>\n",
              "    <path class=\"displacy-arrowhead\" d=\"M1790.0,266.5 L1798.0,254.5 1782.0,254.5\" fill=\"currentColor\"/>\n",
              "</g>\n",
              "\n",
              "<g class=\"displacy-arrow\">\n",
              "    <path class=\"displacy-arc\" id=\"arrow-6475d15115364a9aa714a00d3ae9fc52-0-10\" stroke-width=\"2px\" d=\"M1820,264.5 C1820,177.0 1965.0,177.0 1965.0,264.5\" fill=\"none\" stroke=\"currentColor\"/>\n",
              "    <text dy=\"1.25em\" style=\"font-size: 0.8em; letter-spacing: 1px\">\n",
              "        <textPath xlink:href=\"#arrow-6475d15115364a9aa714a00d3ae9fc52-0-10\" class=\"displacy-label\" startOffset=\"50%\" side=\"left\" fill=\"currentColor\" text-anchor=\"middle\">appos</textPath>\n",
              "    </text>\n",
              "    <path class=\"displacy-arrowhead\" d=\"M1965.0,266.5 L1973.0,254.5 1957.0,254.5\" fill=\"currentColor\"/>\n",
              "</g>\n",
              "\n",
              "<g class=\"displacy-arrow\">\n",
              "    <path class=\"displacy-arc\" id=\"arrow-6475d15115364a9aa714a00d3ae9fc52-0-11\" stroke-width=\"2px\" d=\"M1995,264.5 C1995,177.0 2140.0,177.0 2140.0,264.5\" fill=\"none\" stroke=\"currentColor\"/>\n",
              "    <text dy=\"1.25em\" style=\"font-size: 0.8em; letter-spacing: 1px\">\n",
              "        <textPath xlink:href=\"#arrow-6475d15115364a9aa714a00d3ae9fc52-0-11\" class=\"displacy-label\" startOffset=\"50%\" side=\"left\" fill=\"currentColor\" text-anchor=\"middle\">flat:name</textPath>\n",
              "    </text>\n",
              "    <path class=\"displacy-arrowhead\" d=\"M2140.0,266.5 L2148.0,254.5 2132.0,254.5\" fill=\"currentColor\"/>\n",
              "</g>\n",
              "</svg></span>"
            ]
          },
          "metadata": {}
        }
      ]
    },
    {
      "cell_type": "markdown",
      "source": [
        "Vamos remover as stopwords"
      ],
      "metadata": {
        "id": "tMiysxhJVH7K"
      }
    },
    {
      "cell_type": "code",
      "source": [
        "turismo['title_clean'] = turismo['title'].apply(lambda x: limpa_texto(x))"
      ],
      "metadata": {
        "id": "W1HzQNcTVIhj"
      },
      "execution_count": 34,
      "outputs": []
    },
    {
      "cell_type": "code",
      "source": [
        "turismo.head()"
      ],
      "metadata": {
        "colab": {
          "base_uri": "https://localhost:8080/",
          "height": 337
        },
        "id": "bSYDkc8fVLCS",
        "outputId": "ead49bd1-0a1d-4920-d1bd-908f0a569815"
      },
      "execution_count": 35,
      "outputs": [
        {
          "output_type": "execute_result",
          "data": {
            "text/plain": [
              "                                                 title  \\\n",
              "381  Latam inaugura voo direto de 15 horas entre Ch...   \n",
              "414  Turismo de Las Vegas deve se recuperar em mese...   \n",
              "522  Brasileiro cria app para economizar no passeio...   \n",
              "602       AirBnB passa a fazer reserva de restaurantes   \n",
              "609  Museus lembram quatro décadas de opressão sovi...   \n",
              "\n",
              "                                                  text        date category  \\\n",
              "381  Animem-se os que pretendem cruzar o Pacífico e...  2017-06-10  turismo   \n",
              "414  O massacre em Las Vegas afetará o turismo da c...  2017-06-10  turismo   \n",
              "522  Com cerca de 50 mil visitantes por dia, Veneza...  2017-05-10  turismo   \n",
              "602  A plataforma de hospedagem Airbnb anunciou que...  2017-05-10  turismo   \n",
              "609  Nos países que viveram sob a órbita da União S...  2017-05-10  turismo   \n",
              "\n",
              "    subcategory                                               link  \\\n",
              "381         NaN  http://www1.folha.uol.com.br/turismo/2017/10/1...   \n",
              "414         NaN  http://www1.folha.uol.com.br/turismo/2017/10/1...   \n",
              "522         NaN  http://www1.folha.uol.com.br/turismo/2017/10/1...   \n",
              "602         NaN  http://www1.folha.uol.com.br/turismo/2017/10/1...   \n",
              "609         NaN  http://www1.folha.uol.com.br/turismo/2017/10/1...   \n",
              "\n",
              "     title_n_words  title_n_chars  \\\n",
              "381             11             51   \n",
              "414             11             54   \n",
              "522             11             58   \n",
              "602              7             38   \n",
              "609             10             62   \n",
              "\n",
              "                                           title_clean  \n",
              "381  latam inaugura voo direto de 15 horas entre ch...  \n",
              "414  turismo de las vegas deve se recuperar em mese...  \n",
              "522  brasileiro cria app para economizar no passeio...  \n",
              "602       airbnb passa a fazer reserva de restaurantes  \n",
              "609  museus lembram quatro décadas de opressão sovi...  "
            ],
            "text/html": [
              "\n",
              "  <div id=\"df-190e012d-6a05-44c3-8e87-94c082d796f1\">\n",
              "    <div class=\"colab-df-container\">\n",
              "      <div>\n",
              "<style scoped>\n",
              "    .dataframe tbody tr th:only-of-type {\n",
              "        vertical-align: middle;\n",
              "    }\n",
              "\n",
              "    .dataframe tbody tr th {\n",
              "        vertical-align: top;\n",
              "    }\n",
              "\n",
              "    .dataframe thead th {\n",
              "        text-align: right;\n",
              "    }\n",
              "</style>\n",
              "<table border=\"1\" class=\"dataframe\">\n",
              "  <thead>\n",
              "    <tr style=\"text-align: right;\">\n",
              "      <th></th>\n",
              "      <th>title</th>\n",
              "      <th>text</th>\n",
              "      <th>date</th>\n",
              "      <th>category</th>\n",
              "      <th>subcategory</th>\n",
              "      <th>link</th>\n",
              "      <th>title_n_words</th>\n",
              "      <th>title_n_chars</th>\n",
              "      <th>title_clean</th>\n",
              "    </tr>\n",
              "  </thead>\n",
              "  <tbody>\n",
              "    <tr>\n",
              "      <th>381</th>\n",
              "      <td>Latam inaugura voo direto de 15 horas entre Ch...</td>\n",
              "      <td>Animem-se os que pretendem cruzar o Pacífico e...</td>\n",
              "      <td>2017-06-10</td>\n",
              "      <td>turismo</td>\n",
              "      <td>NaN</td>\n",
              "      <td>http://www1.folha.uol.com.br/turismo/2017/10/1...</td>\n",
              "      <td>11</td>\n",
              "      <td>51</td>\n",
              "      <td>latam inaugura voo direto de 15 horas entre ch...</td>\n",
              "    </tr>\n",
              "    <tr>\n",
              "      <th>414</th>\n",
              "      <td>Turismo de Las Vegas deve se recuperar em mese...</td>\n",
              "      <td>O massacre em Las Vegas afetará o turismo da c...</td>\n",
              "      <td>2017-06-10</td>\n",
              "      <td>turismo</td>\n",
              "      <td>NaN</td>\n",
              "      <td>http://www1.folha.uol.com.br/turismo/2017/10/1...</td>\n",
              "      <td>11</td>\n",
              "      <td>54</td>\n",
              "      <td>turismo de las vegas deve se recuperar em mese...</td>\n",
              "    </tr>\n",
              "    <tr>\n",
              "      <th>522</th>\n",
              "      <td>Brasileiro cria app para economizar no passeio...</td>\n",
              "      <td>Com cerca de 50 mil visitantes por dia, Veneza...</td>\n",
              "      <td>2017-05-10</td>\n",
              "      <td>turismo</td>\n",
              "      <td>NaN</td>\n",
              "      <td>http://www1.folha.uol.com.br/turismo/2017/10/1...</td>\n",
              "      <td>11</td>\n",
              "      <td>58</td>\n",
              "      <td>brasileiro cria app para economizar no passeio...</td>\n",
              "    </tr>\n",
              "    <tr>\n",
              "      <th>602</th>\n",
              "      <td>AirBnB passa a fazer reserva de restaurantes</td>\n",
              "      <td>A plataforma de hospedagem Airbnb anunciou que...</td>\n",
              "      <td>2017-05-10</td>\n",
              "      <td>turismo</td>\n",
              "      <td>NaN</td>\n",
              "      <td>http://www1.folha.uol.com.br/turismo/2017/10/1...</td>\n",
              "      <td>7</td>\n",
              "      <td>38</td>\n",
              "      <td>airbnb passa a fazer reserva de restaurantes</td>\n",
              "    </tr>\n",
              "    <tr>\n",
              "      <th>609</th>\n",
              "      <td>Museus lembram quatro décadas de opressão sovi...</td>\n",
              "      <td>Nos países que viveram sob a órbita da União S...</td>\n",
              "      <td>2017-05-10</td>\n",
              "      <td>turismo</td>\n",
              "      <td>NaN</td>\n",
              "      <td>http://www1.folha.uol.com.br/turismo/2017/10/1...</td>\n",
              "      <td>10</td>\n",
              "      <td>62</td>\n",
              "      <td>museus lembram quatro décadas de opressão sovi...</td>\n",
              "    </tr>\n",
              "  </tbody>\n",
              "</table>\n",
              "</div>\n",
              "      <button class=\"colab-df-convert\" onclick=\"convertToInteractive('df-190e012d-6a05-44c3-8e87-94c082d796f1')\"\n",
              "              title=\"Convert this dataframe to an interactive table.\"\n",
              "              style=\"display:none;\">\n",
              "        \n",
              "  <svg xmlns=\"http://www.w3.org/2000/svg\" height=\"24px\"viewBox=\"0 0 24 24\"\n",
              "       width=\"24px\">\n",
              "    <path d=\"M0 0h24v24H0V0z\" fill=\"none\"/>\n",
              "    <path d=\"M18.56 5.44l.94 2.06.94-2.06 2.06-.94-2.06-.94-.94-2.06-.94 2.06-2.06.94zm-11 1L8.5 8.5l.94-2.06 2.06-.94-2.06-.94L8.5 2.5l-.94 2.06-2.06.94zm10 10l.94 2.06.94-2.06 2.06-.94-2.06-.94-.94-2.06-.94 2.06-2.06.94z\"/><path d=\"M17.41 7.96l-1.37-1.37c-.4-.4-.92-.59-1.43-.59-.52 0-1.04.2-1.43.59L10.3 9.45l-7.72 7.72c-.78.78-.78 2.05 0 2.83L4 21.41c.39.39.9.59 1.41.59.51 0 1.02-.2 1.41-.59l7.78-7.78 2.81-2.81c.8-.78.8-2.07 0-2.86zM5.41 20L4 18.59l7.72-7.72 1.47 1.35L5.41 20z\"/>\n",
              "  </svg>\n",
              "      </button>\n",
              "      \n",
              "  <style>\n",
              "    .colab-df-container {\n",
              "      display:flex;\n",
              "      flex-wrap:wrap;\n",
              "      gap: 12px;\n",
              "    }\n",
              "\n",
              "    .colab-df-convert {\n",
              "      background-color: #E8F0FE;\n",
              "      border: none;\n",
              "      border-radius: 50%;\n",
              "      cursor: pointer;\n",
              "      display: none;\n",
              "      fill: #1967D2;\n",
              "      height: 32px;\n",
              "      padding: 0 0 0 0;\n",
              "      width: 32px;\n",
              "    }\n",
              "\n",
              "    .colab-df-convert:hover {\n",
              "      background-color: #E2EBFA;\n",
              "      box-shadow: 0px 1px 2px rgba(60, 64, 67, 0.3), 0px 1px 3px 1px rgba(60, 64, 67, 0.15);\n",
              "      fill: #174EA6;\n",
              "    }\n",
              "\n",
              "    [theme=dark] .colab-df-convert {\n",
              "      background-color: #3B4455;\n",
              "      fill: #D2E3FC;\n",
              "    }\n",
              "\n",
              "    [theme=dark] .colab-df-convert:hover {\n",
              "      background-color: #434B5C;\n",
              "      box-shadow: 0px 1px 3px 1px rgba(0, 0, 0, 0.15);\n",
              "      filter: drop-shadow(0px 1px 2px rgba(0, 0, 0, 0.3));\n",
              "      fill: #FFFFFF;\n",
              "    }\n",
              "  </style>\n",
              "\n",
              "      <script>\n",
              "        const buttonEl =\n",
              "          document.querySelector('#df-190e012d-6a05-44c3-8e87-94c082d796f1 button.colab-df-convert');\n",
              "        buttonEl.style.display =\n",
              "          google.colab.kernel.accessAllowed ? 'block' : 'none';\n",
              "\n",
              "        async function convertToInteractive(key) {\n",
              "          const element = document.querySelector('#df-190e012d-6a05-44c3-8e87-94c082d796f1');\n",
              "          const dataTable =\n",
              "            await google.colab.kernel.invokeFunction('convertToInteractive',\n",
              "                                                     [key], {});\n",
              "          if (!dataTable) return;\n",
              "\n",
              "          const docLinkHtml = 'Like what you see? Visit the ' +\n",
              "            '<a target=\"_blank\" href=https://colab.research.google.com/notebooks/data_table.ipynb>data table notebook</a>'\n",
              "            + ' to learn more about interactive tables.';\n",
              "          element.innerHTML = '';\n",
              "          dataTable['output_type'] = 'display_data';\n",
              "          await google.colab.output.renderOutput(dataTable, element);\n",
              "          const docLink = document.createElement('div');\n",
              "          docLink.innerHTML = docLinkHtml;\n",
              "          element.appendChild(docLink);\n",
              "        }\n",
              "      </script>\n",
              "    </div>\n",
              "  </div>\n",
              "  "
            ]
          },
          "metadata": {},
          "execution_count": 35
        }
      ]
    },
    {
      "cell_type": "code",
      "source": [
        "turismo['title_clean_no_stop'] = turismo['title_clean'].apply(lambda x : remove_stop(x))"
      ],
      "metadata": {
        "id": "sjcqPiniVM8K"
      },
      "execution_count": 36,
      "outputs": []
    },
    {
      "cell_type": "code",
      "source": [
        "turismo.head()"
      ],
      "metadata": {
        "colab": {
          "base_uri": "https://localhost:8080/",
          "height": 337
        },
        "id": "UzaObOzdVOey",
        "outputId": "769015e7-79c9-4ce5-b185-772a6d141d9e"
      },
      "execution_count": 37,
      "outputs": [
        {
          "output_type": "execute_result",
          "data": {
            "text/plain": [
              "                                                 title  \\\n",
              "381  Latam inaugura voo direto de 15 horas entre Ch...   \n",
              "414  Turismo de Las Vegas deve se recuperar em mese...   \n",
              "522  Brasileiro cria app para economizar no passeio...   \n",
              "602       AirBnB passa a fazer reserva de restaurantes   \n",
              "609  Museus lembram quatro décadas de opressão sovi...   \n",
              "\n",
              "                                                  text        date category  \\\n",
              "381  Animem-se os que pretendem cruzar o Pacífico e...  2017-06-10  turismo   \n",
              "414  O massacre em Las Vegas afetará o turismo da c...  2017-06-10  turismo   \n",
              "522  Com cerca de 50 mil visitantes por dia, Veneza...  2017-05-10  turismo   \n",
              "602  A plataforma de hospedagem Airbnb anunciou que...  2017-05-10  turismo   \n",
              "609  Nos países que viveram sob a órbita da União S...  2017-05-10  turismo   \n",
              "\n",
              "    subcategory                                               link  \\\n",
              "381         NaN  http://www1.folha.uol.com.br/turismo/2017/10/1...   \n",
              "414         NaN  http://www1.folha.uol.com.br/turismo/2017/10/1...   \n",
              "522         NaN  http://www1.folha.uol.com.br/turismo/2017/10/1...   \n",
              "602         NaN  http://www1.folha.uol.com.br/turismo/2017/10/1...   \n",
              "609         NaN  http://www1.folha.uol.com.br/turismo/2017/10/1...   \n",
              "\n",
              "     title_n_words  title_n_chars  \\\n",
              "381             11             51   \n",
              "414             11             54   \n",
              "522             11             58   \n",
              "602              7             38   \n",
              "609             10             62   \n",
              "\n",
              "                                           title_clean  \\\n",
              "381  latam inaugura voo direto de 15 horas entre ch...   \n",
              "414  turismo de las vegas deve se recuperar em mese...   \n",
              "522  brasileiro cria app para economizar no passeio...   \n",
              "602       airbnb passa a fazer reserva de restaurantes   \n",
              "609  museus lembram quatro décadas de opressão sovi...   \n",
              "\n",
              "                                   title_clean_no_stop  \n",
              "381  latam inaugura voo direto 15 horas chile austr...  \n",
              "414              turismo las vegas recuperar analistas  \n",
              "522  brasileiro cria app economizar passeio gôndola...  \n",
              "602                  airbnb passa reserva restaurantes  \n",
              "609   museus lembram décadas opressão soviética países  "
            ],
            "text/html": [
              "\n",
              "  <div id=\"df-0e64c10a-fe21-4968-9d74-bd118a7d115a\">\n",
              "    <div class=\"colab-df-container\">\n",
              "      <div>\n",
              "<style scoped>\n",
              "    .dataframe tbody tr th:only-of-type {\n",
              "        vertical-align: middle;\n",
              "    }\n",
              "\n",
              "    .dataframe tbody tr th {\n",
              "        vertical-align: top;\n",
              "    }\n",
              "\n",
              "    .dataframe thead th {\n",
              "        text-align: right;\n",
              "    }\n",
              "</style>\n",
              "<table border=\"1\" class=\"dataframe\">\n",
              "  <thead>\n",
              "    <tr style=\"text-align: right;\">\n",
              "      <th></th>\n",
              "      <th>title</th>\n",
              "      <th>text</th>\n",
              "      <th>date</th>\n",
              "      <th>category</th>\n",
              "      <th>subcategory</th>\n",
              "      <th>link</th>\n",
              "      <th>title_n_words</th>\n",
              "      <th>title_n_chars</th>\n",
              "      <th>title_clean</th>\n",
              "      <th>title_clean_no_stop</th>\n",
              "    </tr>\n",
              "  </thead>\n",
              "  <tbody>\n",
              "    <tr>\n",
              "      <th>381</th>\n",
              "      <td>Latam inaugura voo direto de 15 horas entre Ch...</td>\n",
              "      <td>Animem-se os que pretendem cruzar o Pacífico e...</td>\n",
              "      <td>2017-06-10</td>\n",
              "      <td>turismo</td>\n",
              "      <td>NaN</td>\n",
              "      <td>http://www1.folha.uol.com.br/turismo/2017/10/1...</td>\n",
              "      <td>11</td>\n",
              "      <td>51</td>\n",
              "      <td>latam inaugura voo direto de 15 horas entre ch...</td>\n",
              "      <td>latam inaugura voo direto 15 horas chile austr...</td>\n",
              "    </tr>\n",
              "    <tr>\n",
              "      <th>414</th>\n",
              "      <td>Turismo de Las Vegas deve se recuperar em mese...</td>\n",
              "      <td>O massacre em Las Vegas afetará o turismo da c...</td>\n",
              "      <td>2017-06-10</td>\n",
              "      <td>turismo</td>\n",
              "      <td>NaN</td>\n",
              "      <td>http://www1.folha.uol.com.br/turismo/2017/10/1...</td>\n",
              "      <td>11</td>\n",
              "      <td>54</td>\n",
              "      <td>turismo de las vegas deve se recuperar em mese...</td>\n",
              "      <td>turismo las vegas recuperar analistas</td>\n",
              "    </tr>\n",
              "    <tr>\n",
              "      <th>522</th>\n",
              "      <td>Brasileiro cria app para economizar no passeio...</td>\n",
              "      <td>Com cerca de 50 mil visitantes por dia, Veneza...</td>\n",
              "      <td>2017-05-10</td>\n",
              "      <td>turismo</td>\n",
              "      <td>NaN</td>\n",
              "      <td>http://www1.folha.uol.com.br/turismo/2017/10/1...</td>\n",
              "      <td>11</td>\n",
              "      <td>58</td>\n",
              "      <td>brasileiro cria app para economizar no passeio...</td>\n",
              "      <td>brasileiro cria app economizar passeio gôndola...</td>\n",
              "    </tr>\n",
              "    <tr>\n",
              "      <th>602</th>\n",
              "      <td>AirBnB passa a fazer reserva de restaurantes</td>\n",
              "      <td>A plataforma de hospedagem Airbnb anunciou que...</td>\n",
              "      <td>2017-05-10</td>\n",
              "      <td>turismo</td>\n",
              "      <td>NaN</td>\n",
              "      <td>http://www1.folha.uol.com.br/turismo/2017/10/1...</td>\n",
              "      <td>7</td>\n",
              "      <td>38</td>\n",
              "      <td>airbnb passa a fazer reserva de restaurantes</td>\n",
              "      <td>airbnb passa reserva restaurantes</td>\n",
              "    </tr>\n",
              "    <tr>\n",
              "      <th>609</th>\n",
              "      <td>Museus lembram quatro décadas de opressão sovi...</td>\n",
              "      <td>Nos países que viveram sob a órbita da União S...</td>\n",
              "      <td>2017-05-10</td>\n",
              "      <td>turismo</td>\n",
              "      <td>NaN</td>\n",
              "      <td>http://www1.folha.uol.com.br/turismo/2017/10/1...</td>\n",
              "      <td>10</td>\n",
              "      <td>62</td>\n",
              "      <td>museus lembram quatro décadas de opressão sovi...</td>\n",
              "      <td>museus lembram décadas opressão soviética países</td>\n",
              "    </tr>\n",
              "  </tbody>\n",
              "</table>\n",
              "</div>\n",
              "      <button class=\"colab-df-convert\" onclick=\"convertToInteractive('df-0e64c10a-fe21-4968-9d74-bd118a7d115a')\"\n",
              "              title=\"Convert this dataframe to an interactive table.\"\n",
              "              style=\"display:none;\">\n",
              "        \n",
              "  <svg xmlns=\"http://www.w3.org/2000/svg\" height=\"24px\"viewBox=\"0 0 24 24\"\n",
              "       width=\"24px\">\n",
              "    <path d=\"M0 0h24v24H0V0z\" fill=\"none\"/>\n",
              "    <path d=\"M18.56 5.44l.94 2.06.94-2.06 2.06-.94-2.06-.94-.94-2.06-.94 2.06-2.06.94zm-11 1L8.5 8.5l.94-2.06 2.06-.94-2.06-.94L8.5 2.5l-.94 2.06-2.06.94zm10 10l.94 2.06.94-2.06 2.06-.94-2.06-.94-.94-2.06-.94 2.06-2.06.94z\"/><path d=\"M17.41 7.96l-1.37-1.37c-.4-.4-.92-.59-1.43-.59-.52 0-1.04.2-1.43.59L10.3 9.45l-7.72 7.72c-.78.78-.78 2.05 0 2.83L4 21.41c.39.39.9.59 1.41.59.51 0 1.02-.2 1.41-.59l7.78-7.78 2.81-2.81c.8-.78.8-2.07 0-2.86zM5.41 20L4 18.59l7.72-7.72 1.47 1.35L5.41 20z\"/>\n",
              "  </svg>\n",
              "      </button>\n",
              "      \n",
              "  <style>\n",
              "    .colab-df-container {\n",
              "      display:flex;\n",
              "      flex-wrap:wrap;\n",
              "      gap: 12px;\n",
              "    }\n",
              "\n",
              "    .colab-df-convert {\n",
              "      background-color: #E8F0FE;\n",
              "      border: none;\n",
              "      border-radius: 50%;\n",
              "      cursor: pointer;\n",
              "      display: none;\n",
              "      fill: #1967D2;\n",
              "      height: 32px;\n",
              "      padding: 0 0 0 0;\n",
              "      width: 32px;\n",
              "    }\n",
              "\n",
              "    .colab-df-convert:hover {\n",
              "      background-color: #E2EBFA;\n",
              "      box-shadow: 0px 1px 2px rgba(60, 64, 67, 0.3), 0px 1px 3px 1px rgba(60, 64, 67, 0.15);\n",
              "      fill: #174EA6;\n",
              "    }\n",
              "\n",
              "    [theme=dark] .colab-df-convert {\n",
              "      background-color: #3B4455;\n",
              "      fill: #D2E3FC;\n",
              "    }\n",
              "\n",
              "    [theme=dark] .colab-df-convert:hover {\n",
              "      background-color: #434B5C;\n",
              "      box-shadow: 0px 1px 3px 1px rgba(0, 0, 0, 0.15);\n",
              "      filter: drop-shadow(0px 1px 2px rgba(0, 0, 0, 0.3));\n",
              "      fill: #FFFFFF;\n",
              "    }\n",
              "  </style>\n",
              "\n",
              "      <script>\n",
              "        const buttonEl =\n",
              "          document.querySelector('#df-0e64c10a-fe21-4968-9d74-bd118a7d115a button.colab-df-convert');\n",
              "        buttonEl.style.display =\n",
              "          google.colab.kernel.accessAllowed ? 'block' : 'none';\n",
              "\n",
              "        async function convertToInteractive(key) {\n",
              "          const element = document.querySelector('#df-0e64c10a-fe21-4968-9d74-bd118a7d115a');\n",
              "          const dataTable =\n",
              "            await google.colab.kernel.invokeFunction('convertToInteractive',\n",
              "                                                     [key], {});\n",
              "          if (!dataTable) return;\n",
              "\n",
              "          const docLinkHtml = 'Like what you see? Visit the ' +\n",
              "            '<a target=\"_blank\" href=https://colab.research.google.com/notebooks/data_table.ipynb>data table notebook</a>'\n",
              "            + ' to learn more about interactive tables.';\n",
              "          element.innerHTML = '';\n",
              "          dataTable['output_type'] = 'display_data';\n",
              "          await google.colab.output.renderOutput(dataTable, element);\n",
              "          const docLink = document.createElement('div');\n",
              "          docLink.innerHTML = docLinkHtml;\n",
              "          element.appendChild(docLink);\n",
              "        }\n",
              "      </script>\n",
              "    </div>\n",
              "  </div>\n",
              "  "
            ]
          },
          "metadata": {},
          "execution_count": 37
        }
      ]
    },
    {
      "cell_type": "code",
      "source": [
        "turismo.iloc[0]['title_clean']"
      ],
      "metadata": {
        "colab": {
          "base_uri": "https://localhost:8080/",
          "height": 35
        },
        "id": "IAGU84qKVQJS",
        "outputId": "868b3e38-0b1d-4bbb-c1b6-b973b19a3683"
      },
      "execution_count": 38,
      "outputs": [
        {
          "output_type": "execute_result",
          "data": {
            "text/plain": [
              "'latam inaugura voo direto de 15 horas entre chile e austrália'"
            ],
            "application/vnd.google.colaboratory.intrinsic+json": {
              "type": "string"
            }
          },
          "metadata": {},
          "execution_count": 38
        }
      ]
    },
    {
      "cell_type": "code",
      "source": [
        "turismo.iloc[0]['title_clean_no_stop']"
      ],
      "metadata": {
        "id": "ggyRupW2VUUK",
        "colab": {
          "base_uri": "https://localhost:8080/",
          "height": 35
        },
        "outputId": "4c98b22b-0de0-4378-d91d-fc42937a5943"
      },
      "execution_count": 39,
      "outputs": [
        {
          "output_type": "execute_result",
          "data": {
            "text/plain": [
              "'latam inaugura voo direto 15 horas chile austrália'"
            ],
            "application/vnd.google.colaboratory.intrinsic+json": {
              "type": "string"
            }
          },
          "metadata": {},
          "execution_count": 39
        }
      ]
    },
    {
      "cell_type": "markdown",
      "source": [
        "## **Lematização**"
      ],
      "metadata": {
        "id": "QWPyJyAoVWPq"
      }
    },
    {
      "cell_type": "code",
      "source": [
        "turismo['title_lemmas'] = turismo['title_clean_no_stop'].apply(lambda x: limpa_texto2(x))"
      ],
      "metadata": {
        "id": "_-P4N6yuVWxC"
      },
      "execution_count": 40,
      "outputs": []
    },
    {
      "cell_type": "code",
      "source": [
        "turismo.iloc[0]['title_lemmas'] "
      ],
      "metadata": {
        "colab": {
          "base_uri": "https://localhost:8080/",
          "height": 35
        },
        "id": "QrjDCRHVg2Mm",
        "outputId": "554db6c5-e446-4542-f3c4-bbf9691eb925"
      },
      "execution_count": 62,
      "outputs": [
        {
          "output_type": "execute_result",
          "data": {
            "text/plain": [
              "'latar inaugurar voo direto 15 hora Chile austráliar'"
            ],
            "application/vnd.google.colaboratory.intrinsic+json": {
              "type": "string"
            }
          },
          "metadata": {},
          "execution_count": 62
        }
      ]
    },
    {
      "cell_type": "code",
      "source": [
        "turismo.iloc[5]['title_lemmas'] "
      ],
      "metadata": {
        "colab": {
          "base_uri": "https://localhost:8080/",
          "height": 35
        },
        "id": "B9dORd9zhCW2",
        "outputId": "c8eae0a3-82a7-4b6b-b005-7a8d88596c35"
      },
      "execution_count": 63,
      "outputs": [
        {
          "output_type": "execute_result",
          "data": {
            "text/plain": [
              "'viagem Japão aula cultura tradição ator Jayme Matarazzo'"
            ],
            "application/vnd.google.colaboratory.intrinsic+json": {
              "type": "string"
            }
          },
          "metadata": {},
          "execution_count": 63
        }
      ]
    },
    {
      "cell_type": "markdown",
      "source": [],
      "metadata": {
        "id": "9wOhVTpdgiZG"
      }
    },
    {
      "cell_type": "code",
      "source": [
        "turismo.head()"
      ],
      "metadata": {
        "colab": {
          "base_uri": "https://localhost:8080/",
          "height": 424
        },
        "id": "odGM8l7KVY_q",
        "outputId": "0c96131d-6460-4108-cb41-83003cbccc5c"
      },
      "execution_count": 41,
      "outputs": [
        {
          "output_type": "execute_result",
          "data": {
            "text/plain": [
              "                                                 title  \\\n",
              "381  Latam inaugura voo direto de 15 horas entre Ch...   \n",
              "414  Turismo de Las Vegas deve se recuperar em mese...   \n",
              "522  Brasileiro cria app para economizar no passeio...   \n",
              "602       AirBnB passa a fazer reserva de restaurantes   \n",
              "609  Museus lembram quatro décadas de opressão sovi...   \n",
              "\n",
              "                                                  text        date category  \\\n",
              "381  Animem-se os que pretendem cruzar o Pacífico e...  2017-06-10  turismo   \n",
              "414  O massacre em Las Vegas afetará o turismo da c...  2017-06-10  turismo   \n",
              "522  Com cerca de 50 mil visitantes por dia, Veneza...  2017-05-10  turismo   \n",
              "602  A plataforma de hospedagem Airbnb anunciou que...  2017-05-10  turismo   \n",
              "609  Nos países que viveram sob a órbita da União S...  2017-05-10  turismo   \n",
              "\n",
              "    subcategory                                               link  \\\n",
              "381         NaN  http://www1.folha.uol.com.br/turismo/2017/10/1...   \n",
              "414         NaN  http://www1.folha.uol.com.br/turismo/2017/10/1...   \n",
              "522         NaN  http://www1.folha.uol.com.br/turismo/2017/10/1...   \n",
              "602         NaN  http://www1.folha.uol.com.br/turismo/2017/10/1...   \n",
              "609         NaN  http://www1.folha.uol.com.br/turismo/2017/10/1...   \n",
              "\n",
              "     title_n_words  title_n_chars  \\\n",
              "381             11             51   \n",
              "414             11             54   \n",
              "522             11             58   \n",
              "602              7             38   \n",
              "609             10             62   \n",
              "\n",
              "                                           title_clean  \\\n",
              "381  latam inaugura voo direto de 15 horas entre ch...   \n",
              "414  turismo de las vegas deve se recuperar em mese...   \n",
              "522  brasileiro cria app para economizar no passeio...   \n",
              "602       airbnb passa a fazer reserva de restaurantes   \n",
              "609  museus lembram quatro décadas de opressão sovi...   \n",
              "\n",
              "                                   title_clean_no_stop  \\\n",
              "381  latam inaugura voo direto 15 horas chile austr...   \n",
              "414              turismo las vegas recuperar analistas   \n",
              "522  brasileiro cria app economizar passeio gôndola...   \n",
              "602                  airbnb passa reserva restaurantes   \n",
              "609   museus lembram décadas opressão soviética países   \n",
              "\n",
              "                                          title_lemmas  \n",
              "381  latar inaugurar voo direto 15 hora Chile austr...  \n",
              "414                turismo las vega recuperar analista  \n",
              "522  brasileiro criar app economizar passeio gôndol...  \n",
              "602                  Airbnb passar reserva restaurante  \n",
              "609       museu lembrar década opressão soviético país  "
            ],
            "text/html": [
              "\n",
              "  <div id=\"df-250fdf3b-280c-4878-be2b-8398eecc16df\">\n",
              "    <div class=\"colab-df-container\">\n",
              "      <div>\n",
              "<style scoped>\n",
              "    .dataframe tbody tr th:only-of-type {\n",
              "        vertical-align: middle;\n",
              "    }\n",
              "\n",
              "    .dataframe tbody tr th {\n",
              "        vertical-align: top;\n",
              "    }\n",
              "\n",
              "    .dataframe thead th {\n",
              "        text-align: right;\n",
              "    }\n",
              "</style>\n",
              "<table border=\"1\" class=\"dataframe\">\n",
              "  <thead>\n",
              "    <tr style=\"text-align: right;\">\n",
              "      <th></th>\n",
              "      <th>title</th>\n",
              "      <th>text</th>\n",
              "      <th>date</th>\n",
              "      <th>category</th>\n",
              "      <th>subcategory</th>\n",
              "      <th>link</th>\n",
              "      <th>title_n_words</th>\n",
              "      <th>title_n_chars</th>\n",
              "      <th>title_clean</th>\n",
              "      <th>title_clean_no_stop</th>\n",
              "      <th>title_lemmas</th>\n",
              "    </tr>\n",
              "  </thead>\n",
              "  <tbody>\n",
              "    <tr>\n",
              "      <th>381</th>\n",
              "      <td>Latam inaugura voo direto de 15 horas entre Ch...</td>\n",
              "      <td>Animem-se os que pretendem cruzar o Pacífico e...</td>\n",
              "      <td>2017-06-10</td>\n",
              "      <td>turismo</td>\n",
              "      <td>NaN</td>\n",
              "      <td>http://www1.folha.uol.com.br/turismo/2017/10/1...</td>\n",
              "      <td>11</td>\n",
              "      <td>51</td>\n",
              "      <td>latam inaugura voo direto de 15 horas entre ch...</td>\n",
              "      <td>latam inaugura voo direto 15 horas chile austr...</td>\n",
              "      <td>latar inaugurar voo direto 15 hora Chile austr...</td>\n",
              "    </tr>\n",
              "    <tr>\n",
              "      <th>414</th>\n",
              "      <td>Turismo de Las Vegas deve se recuperar em mese...</td>\n",
              "      <td>O massacre em Las Vegas afetará o turismo da c...</td>\n",
              "      <td>2017-06-10</td>\n",
              "      <td>turismo</td>\n",
              "      <td>NaN</td>\n",
              "      <td>http://www1.folha.uol.com.br/turismo/2017/10/1...</td>\n",
              "      <td>11</td>\n",
              "      <td>54</td>\n",
              "      <td>turismo de las vegas deve se recuperar em mese...</td>\n",
              "      <td>turismo las vegas recuperar analistas</td>\n",
              "      <td>turismo las vega recuperar analista</td>\n",
              "    </tr>\n",
              "    <tr>\n",
              "      <th>522</th>\n",
              "      <td>Brasileiro cria app para economizar no passeio...</td>\n",
              "      <td>Com cerca de 50 mil visitantes por dia, Veneza...</td>\n",
              "      <td>2017-05-10</td>\n",
              "      <td>turismo</td>\n",
              "      <td>NaN</td>\n",
              "      <td>http://www1.folha.uol.com.br/turismo/2017/10/1...</td>\n",
              "      <td>11</td>\n",
              "      <td>58</td>\n",
              "      <td>brasileiro cria app para economizar no passeio...</td>\n",
              "      <td>brasileiro cria app economizar passeio gôndola...</td>\n",
              "      <td>brasileiro criar app economizar passeio gôndol...</td>\n",
              "    </tr>\n",
              "    <tr>\n",
              "      <th>602</th>\n",
              "      <td>AirBnB passa a fazer reserva de restaurantes</td>\n",
              "      <td>A plataforma de hospedagem Airbnb anunciou que...</td>\n",
              "      <td>2017-05-10</td>\n",
              "      <td>turismo</td>\n",
              "      <td>NaN</td>\n",
              "      <td>http://www1.folha.uol.com.br/turismo/2017/10/1...</td>\n",
              "      <td>7</td>\n",
              "      <td>38</td>\n",
              "      <td>airbnb passa a fazer reserva de restaurantes</td>\n",
              "      <td>airbnb passa reserva restaurantes</td>\n",
              "      <td>Airbnb passar reserva restaurante</td>\n",
              "    </tr>\n",
              "    <tr>\n",
              "      <th>609</th>\n",
              "      <td>Museus lembram quatro décadas de opressão sovi...</td>\n",
              "      <td>Nos países que viveram sob a órbita da União S...</td>\n",
              "      <td>2017-05-10</td>\n",
              "      <td>turismo</td>\n",
              "      <td>NaN</td>\n",
              "      <td>http://www1.folha.uol.com.br/turismo/2017/10/1...</td>\n",
              "      <td>10</td>\n",
              "      <td>62</td>\n",
              "      <td>museus lembram quatro décadas de opressão sovi...</td>\n",
              "      <td>museus lembram décadas opressão soviética países</td>\n",
              "      <td>museu lembrar década opressão soviético país</td>\n",
              "    </tr>\n",
              "  </tbody>\n",
              "</table>\n",
              "</div>\n",
              "      <button class=\"colab-df-convert\" onclick=\"convertToInteractive('df-250fdf3b-280c-4878-be2b-8398eecc16df')\"\n",
              "              title=\"Convert this dataframe to an interactive table.\"\n",
              "              style=\"display:none;\">\n",
              "        \n",
              "  <svg xmlns=\"http://www.w3.org/2000/svg\" height=\"24px\"viewBox=\"0 0 24 24\"\n",
              "       width=\"24px\">\n",
              "    <path d=\"M0 0h24v24H0V0z\" fill=\"none\"/>\n",
              "    <path d=\"M18.56 5.44l.94 2.06.94-2.06 2.06-.94-2.06-.94-.94-2.06-.94 2.06-2.06.94zm-11 1L8.5 8.5l.94-2.06 2.06-.94-2.06-.94L8.5 2.5l-.94 2.06-2.06.94zm10 10l.94 2.06.94-2.06 2.06-.94-2.06-.94-.94-2.06-.94 2.06-2.06.94z\"/><path d=\"M17.41 7.96l-1.37-1.37c-.4-.4-.92-.59-1.43-.59-.52 0-1.04.2-1.43.59L10.3 9.45l-7.72 7.72c-.78.78-.78 2.05 0 2.83L4 21.41c.39.39.9.59 1.41.59.51 0 1.02-.2 1.41-.59l7.78-7.78 2.81-2.81c.8-.78.8-2.07 0-2.86zM5.41 20L4 18.59l7.72-7.72 1.47 1.35L5.41 20z\"/>\n",
              "  </svg>\n",
              "      </button>\n",
              "      \n",
              "  <style>\n",
              "    .colab-df-container {\n",
              "      display:flex;\n",
              "      flex-wrap:wrap;\n",
              "      gap: 12px;\n",
              "    }\n",
              "\n",
              "    .colab-df-convert {\n",
              "      background-color: #E8F0FE;\n",
              "      border: none;\n",
              "      border-radius: 50%;\n",
              "      cursor: pointer;\n",
              "      display: none;\n",
              "      fill: #1967D2;\n",
              "      height: 32px;\n",
              "      padding: 0 0 0 0;\n",
              "      width: 32px;\n",
              "    }\n",
              "\n",
              "    .colab-df-convert:hover {\n",
              "      background-color: #E2EBFA;\n",
              "      box-shadow: 0px 1px 2px rgba(60, 64, 67, 0.3), 0px 1px 3px 1px rgba(60, 64, 67, 0.15);\n",
              "      fill: #174EA6;\n",
              "    }\n",
              "\n",
              "    [theme=dark] .colab-df-convert {\n",
              "      background-color: #3B4455;\n",
              "      fill: #D2E3FC;\n",
              "    }\n",
              "\n",
              "    [theme=dark] .colab-df-convert:hover {\n",
              "      background-color: #434B5C;\n",
              "      box-shadow: 0px 1px 3px 1px rgba(0, 0, 0, 0.15);\n",
              "      filter: drop-shadow(0px 1px 2px rgba(0, 0, 0, 0.3));\n",
              "      fill: #FFFFFF;\n",
              "    }\n",
              "  </style>\n",
              "\n",
              "      <script>\n",
              "        const buttonEl =\n",
              "          document.querySelector('#df-250fdf3b-280c-4878-be2b-8398eecc16df button.colab-df-convert');\n",
              "        buttonEl.style.display =\n",
              "          google.colab.kernel.accessAllowed ? 'block' : 'none';\n",
              "\n",
              "        async function convertToInteractive(key) {\n",
              "          const element = document.querySelector('#df-250fdf3b-280c-4878-be2b-8398eecc16df');\n",
              "          const dataTable =\n",
              "            await google.colab.kernel.invokeFunction('convertToInteractive',\n",
              "                                                     [key], {});\n",
              "          if (!dataTable) return;\n",
              "\n",
              "          const docLinkHtml = 'Like what you see? Visit the ' +\n",
              "            '<a target=\"_blank\" href=https://colab.research.google.com/notebooks/data_table.ipynb>data table notebook</a>'\n",
              "            + ' to learn more about interactive tables.';\n",
              "          element.innerHTML = '';\n",
              "          dataTable['output_type'] = 'display_data';\n",
              "          await google.colab.output.renderOutput(dataTable, element);\n",
              "          const docLink = document.createElement('div');\n",
              "          docLink.innerHTML = docLinkHtml;\n",
              "          element.appendChild(docLink);\n",
              "        }\n",
              "      </script>\n",
              "    </div>\n",
              "  </div>\n",
              "  "
            ]
          },
          "metadata": {},
          "execution_count": 41
        }
      ]
    },
    {
      "cell_type": "code",
      "source": [
        "turismo.iloc[5]"
      ],
      "metadata": {
        "colab": {
          "base_uri": "https://localhost:8080/"
        },
        "id": "tlN3-B8hVaMS",
        "outputId": "38003d01-7859-4a25-d9c6-e8e4b7398384"
      },
      "execution_count": 42,
      "outputs": [
        {
          "output_type": "execute_result",
          "data": {
            "text/plain": [
              "title                  'Viagem ao Japão é aula de cultura e tradição'...\n",
              "text                   O ator Jayme Matarazzo, 31, aproveita os inter...\n",
              "date                                                          2017-05-10\n",
              "category                                                         turismo\n",
              "subcategory                                                          NaN\n",
              "link                   http://www1.folha.uol.com.br/turismo/2017/10/1...\n",
              "title_n_words                                                         13\n",
              "title_n_chars                                                         60\n",
              "title_clean            viagem ao japão é aula de cultura e tradição d...\n",
              "title_clean_no_stop    viagem japão aula cultura tradição ator jayme ...\n",
              "title_lemmas           viagem Japão aula cultura tradição ator Jayme ...\n",
              "Name: 615, dtype: object"
            ]
          },
          "metadata": {},
          "execution_count": 42
        }
      ]
    },
    {
      "cell_type": "code",
      "source": [
        "turismo.iloc[5]['title_clean']"
      ],
      "metadata": {
        "colab": {
          "base_uri": "https://localhost:8080/",
          "height": 35
        },
        "id": "HcxCZGRlVcIa",
        "outputId": "bf493192-6b30-4a02-ee01-237f9d71099a"
      },
      "execution_count": 43,
      "outputs": [
        {
          "output_type": "execute_result",
          "data": {
            "text/plain": [
              "'viagem ao japão é aula de cultura e tradição diz ator jayme matarazzo'"
            ],
            "application/vnd.google.colaboratory.intrinsic+json": {
              "type": "string"
            }
          },
          "metadata": {},
          "execution_count": 43
        }
      ]
    },
    {
      "cell_type": "code",
      "source": [
        "turismo.iloc[5]['title_clean_no_stop']"
      ],
      "metadata": {
        "colab": {
          "base_uri": "https://localhost:8080/",
          "height": 35
        },
        "id": "Ah_NcEeVVeJy",
        "outputId": "73e51c60-0a33-478f-fe8a-66106df55759"
      },
      "execution_count": 44,
      "outputs": [
        {
          "output_type": "execute_result",
          "data": {
            "text/plain": [
              "'viagem japão aula cultura tradição ator jayme matarazzo'"
            ],
            "application/vnd.google.colaboratory.intrinsic+json": {
              "type": "string"
            }
          },
          "metadata": {},
          "execution_count": 44
        }
      ]
    },
    {
      "cell_type": "code",
      "source": [
        "turismo.iloc[5]['title_lemmas']"
      ],
      "metadata": {
        "colab": {
          "base_uri": "https://localhost:8080/",
          "height": 35
        },
        "id": "K7p04vNMVgVC",
        "outputId": "abfae82a-aade-4a5b-825a-d7e08ef86f32"
      },
      "execution_count": 45,
      "outputs": [
        {
          "output_type": "execute_result",
          "data": {
            "text/plain": [
              "'viagem Japão aula cultura tradição ator Jayme Matarazzo'"
            ],
            "application/vnd.google.colaboratory.intrinsic+json": {
              "type": "string"
            }
          },
          "metadata": {},
          "execution_count": 45
        }
      ]
    },
    {
      "cell_type": "markdown",
      "source": [
        "N-grams"
      ],
      "metadata": {
        "id": "I5xjAfAwViVL"
      }
    },
    {
      "cell_type": "code",
      "source": [
        "titulos = \" \".join(turismo['title_lemmas'])"
      ],
      "metadata": {
        "id": "LQA3ohs-VjMy"
      },
      "execution_count": 46,
      "outputs": []
    },
    {
      "cell_type": "code",
      "source": [
        "token = word_tokenize(titulos)\n",
        "bigrams = ngrams(token,2)\n",
        "trigrams = ngrams(token,3)\n",
        "fourgrams = ngrams(token,4)\n",
        "fivegrams = ngrams(token,5)"
      ],
      "metadata": {
        "id": "Quoq0m17VmA6"
      },
      "execution_count": 47,
      "outputs": []
    },
    {
      "cell_type": "code",
      "source": [
        "print(Counter(bigrams).most_common(10))"
      ],
      "metadata": {
        "colab": {
          "base_uri": "https://localhost:8080/"
        },
        "id": "5r-oHpGpVngy",
        "outputId": "7b8d4b93-0938-43a0-eddb-3fd46ce3ef9b"
      },
      "execution_count": 48,
      "outputs": [
        {
          "output_type": "stream",
          "name": "stdout",
          "text": [
            "[(('fotógrafo', 'registrar'), 31), (('álbum', 'viagem'), 22), (('atrair', 'turista'), 19), (('companhia', 'aéreo'), 18), (('fotógrafo', 'clico'), 14), (('atração', 'turístico'), 10), (('levar', 'turista'), 10), (('estação', 'esqui'), 10), (('opção', 'pacote'), 9), (('fotógrafar', 'registrar'), 8)]\n"
          ]
        }
      ]
    },
    {
      "cell_type": "code",
      "source": [
        "print(Counter(trigrams).most_common(10))"
      ],
      "metadata": {
        "colab": {
          "base_uri": "https://localhost:8080/"
        },
        "id": "OclKufrQVorh",
        "outputId": "7d428e1b-a4c5-426f-fafe-d6507255b0ac"
      },
      "execution_count": 49,
      "outputs": [
        {
          "output_type": "stream",
          "name": "stdout",
          "text": [
            "[(('world', 'trade', 'center'), 5), (('fotógrafo', 'registrar', 'paisagem'), 4), (('tema', 'ensaio', 'fotográfico'), 4), (('parque', 'harry', 'potter'), 4), (('inaugurar', 'museu', 'dedicar'), 4), (('mundo', 'fotógrafo', 'registrar'), 3), (('pacote', 'último', 'hora'), 3), (('último', 'hora', 'viajar'), 3), (('estação', 'esqui', 'EUA'), 3), (('país', 'álbum', 'viagem'), 3)]\n"
          ]
        }
      ]
    },
    {
      "cell_type": "code",
      "source": [
        "print(Counter(fourgrams).most_common(10))"
      ],
      "metadata": {
        "colab": {
          "base_uri": "https://localhost:8080/"
        },
        "id": "BVRASA_UVqLp",
        "outputId": "fc86664b-a020-41c9-cad6-5cc39edd4530"
      },
      "execution_count": 50,
      "outputs": [
        {
          "output_type": "stream",
          "name": "stdout",
          "text": [
            "[(('pacote', 'último', 'hora', 'viajar'), 3), (('contar', 'lugar', 'preferir', 'Brasil'), 2), (('disney', 'Hong', 'Kong', 'ter'), 2), (('vasculhar', 'rede', 'social', 'emitir'), 2), (('rede', 'social', 'emitir', 'visto'), 2), (('montanha', 'russo', 'alto', 'rápido'), 2), (('primavera', 'árabe', 'guerra', 'sírio'), 2), (('árabe', 'guerra', 'sírio', 'gerar'), 2), (('guerra', 'sírio', 'gerar', 'crise'), 2), (('sírio', 'gerar', 'crise', 'turismo'), 2)]\n"
          ]
        }
      ]
    },
    {
      "cell_type": "markdown",
      "source": [
        "Tópicos"
      ],
      "metadata": {
        "id": "X0Q0OH9VVrrx"
      }
    },
    {
      "cell_type": "code",
      "source": [
        "vectorizer = CountVectorizer(min_df=10, max_df=0.9, stop_words=STOP_WORDS, lowercase=True)"
      ],
      "metadata": {
        "id": "cLLcE4AeVsMB"
      },
      "execution_count": 51,
      "outputs": []
    },
    {
      "cell_type": "code",
      "source": [
        "data_vectorized = vectorizer.fit_transform(turismo['title_lemmas'])"
      ],
      "metadata": {
        "id": "WQoCkqVGVush"
      },
      "execution_count": 52,
      "outputs": []
    },
    {
      "cell_type": "code",
      "source": [
        "data_vectorized"
      ],
      "metadata": {
        "colab": {
          "base_uri": "https://localhost:8080/"
        },
        "id": "ONRnWp21VwVJ",
        "outputId": "a60a6340-6618-4b74-f8e9-f1d3b08558ec"
      },
      "execution_count": 53,
      "outputs": [
        {
          "output_type": "execute_result",
          "data": {
            "text/plain": [
              "<1903x216 sparse matrix of type '<class 'numpy.int64'>'\n",
              "\twith 5075 stored elements in Compressed Sparse Row format>"
            ]
          },
          "metadata": {},
          "execution_count": 53
        }
      ]
    },
    {
      "cell_type": "code",
      "source": [
        "NUM_TOPICS = 2"
      ],
      "metadata": {
        "id": "_8Lawh8UVyBJ"
      },
      "execution_count": 54,
      "outputs": []
    },
    {
      "cell_type": "code",
      "source": [
        "lda = LatentDirichletAllocation(n_components=NUM_TOPICS, max_iter=30, learning_method='online',verbose=True)\n",
        "data_lda = lda.fit_transform(data_vectorized)"
      ],
      "metadata": {
        "colab": {
          "base_uri": "https://localhost:8080/"
        },
        "id": "6uB6q0aJVzex",
        "outputId": "a26907ca-3110-4dbe-8dc3-9382136b0631"
      },
      "execution_count": 55,
      "outputs": [
        {
          "output_type": "stream",
          "name": "stdout",
          "text": [
            "iteration: 1 of max_iter: 30\n",
            "iteration: 2 of max_iter: 30\n",
            "iteration: 3 of max_iter: 30\n",
            "iteration: 4 of max_iter: 30\n",
            "iteration: 5 of max_iter: 30\n",
            "iteration: 6 of max_iter: 30\n",
            "iteration: 7 of max_iter: 30\n",
            "iteration: 8 of max_iter: 30\n",
            "iteration: 9 of max_iter: 30\n",
            "iteration: 10 of max_iter: 30\n",
            "iteration: 11 of max_iter: 30\n",
            "iteration: 12 of max_iter: 30\n",
            "iteration: 13 of max_iter: 30\n",
            "iteration: 14 of max_iter: 30\n",
            "iteration: 15 of max_iter: 30\n",
            "iteration: 16 of max_iter: 30\n",
            "iteration: 17 of max_iter: 30\n",
            "iteration: 18 of max_iter: 30\n",
            "iteration: 19 of max_iter: 30\n",
            "iteration: 20 of max_iter: 30\n",
            "iteration: 21 of max_iter: 30\n",
            "iteration: 22 of max_iter: 30\n",
            "iteration: 23 of max_iter: 30\n",
            "iteration: 24 of max_iter: 30\n",
            "iteration: 25 of max_iter: 30\n",
            "iteration: 26 of max_iter: 30\n",
            "iteration: 27 of max_iter: 30\n",
            "iteration: 28 of max_iter: 30\n",
            "iteration: 29 of max_iter: 30\n",
            "iteration: 30 of max_iter: 30\n"
          ]
        }
      ]
    },
    {
      "cell_type": "code",
      "source": [
        "def selected_topics(model, vectorizer, top_n=10):\n",
        "    for idx, topic in enumerate(model.components_):\n",
        "        print(\"Topic %d:\" % (idx))\n",
        "        print([(vectorizer.get_feature_names()[i], topic[i])\n",
        "                        for i in topic.argsort()[:-top_n - 1:-1]]) "
      ],
      "metadata": {
        "id": "uz0pW2LrV15B"
      },
      "execution_count": 56,
      "outputs": []
    },
    {
      "cell_type": "code",
      "source": [
        "print(\"LDA Model:\")\n",
        "selected_topics(lda, vectorizer)"
      ],
      "metadata": {
        "id": "R2zFjhuCV3Oa",
        "outputId": "fcaec4b8-58ab-49b7-b6ad-8a48756022c9",
        "colab": {
          "base_uri": "https://localhost:8080/"
        }
      },
      "execution_count": 57,
      "outputs": [
        {
          "output_type": "stream",
          "name": "stdout",
          "text": [
            "LDA Model:\n",
            "Topic 0:\n",
            "[('hotel', 109.01173798345762), ('brasil', 80.23240119377508), ('conhecer', 77.00040278407079), ('ano', 75.7305085520432), ('mundo', 73.70036131237049), ('museu', 71.45852556732146), ('parque', 66.8073704172965), ('eua', 62.54223460697508), ('rio', 60.96068259564591), ('atração', 58.0032109032166)]\n",
            "Topic 1:\n",
            "[('turista', 196.56252054026396), ('viagem', 118.99801066412547), ('turismo', 99.15583660344386), ('fotógrafo', 86.21188399154902), ('cidade', 80.52935600278252), ('brasileiro', 56.72745124298476), ('país', 56.33222230916783), ('destino', 54.86435156555634), ('registrar', 54.03456686127778), ('pacote', 47.34967498748177)]\n"
          ]
        }
      ]
    },
    {
      "cell_type": "code",
      "source": [
        "import pyLDAvis.sklearn\n",
        "\n",
        "pyLDAvis.enable_notebook()\n",
        "dash = pyLDAvis.sklearn.prepare(lda, data_vectorized, vectorizer, mds='tsne')\n",
        "dash"
      ],
      "metadata": {
        "id": "UTVVT6PfV5Hh",
        "outputId": "9c5ca263-e1f8-473f-b070-8ccb25b5141e",
        "colab": {
          "base_uri": "https://localhost:8080/",
          "height": 373
        }
      },
      "execution_count": 58,
      "outputs": [
        {
          "output_type": "error",
          "ename": "ModuleNotFoundError",
          "evalue": "ignored",
          "traceback": [
            "\u001b[0;31m---------------------------------------------------------------------------\u001b[0m",
            "\u001b[0;31mModuleNotFoundError\u001b[0m                       Traceback (most recent call last)",
            "\u001b[0;32m<ipython-input-58-93c97e19630d>\u001b[0m in \u001b[0;36m<module>\u001b[0;34m\u001b[0m\n\u001b[0;32m----> 1\u001b[0;31m \u001b[0;32mimport\u001b[0m \u001b[0mpyLDAvis\u001b[0m\u001b[0;34m.\u001b[0m\u001b[0msklearn\u001b[0m\u001b[0;34m\u001b[0m\u001b[0;34m\u001b[0m\u001b[0m\n\u001b[0m\u001b[1;32m      2\u001b[0m \u001b[0;34m\u001b[0m\u001b[0m\n\u001b[1;32m      3\u001b[0m \u001b[0mpyLDAvis\u001b[0m\u001b[0;34m.\u001b[0m\u001b[0menable_notebook\u001b[0m\u001b[0;34m(\u001b[0m\u001b[0;34m)\u001b[0m\u001b[0;34m\u001b[0m\u001b[0;34m\u001b[0m\u001b[0m\n\u001b[1;32m      4\u001b[0m \u001b[0mdash\u001b[0m \u001b[0;34m=\u001b[0m \u001b[0mpyLDAvis\u001b[0m\u001b[0;34m.\u001b[0m\u001b[0msklearn\u001b[0m\u001b[0;34m.\u001b[0m\u001b[0mprepare\u001b[0m\u001b[0;34m(\u001b[0m\u001b[0mlda\u001b[0m\u001b[0;34m,\u001b[0m \u001b[0mdata_vectorized\u001b[0m\u001b[0;34m,\u001b[0m \u001b[0mvectorizer\u001b[0m\u001b[0;34m,\u001b[0m \u001b[0mmds\u001b[0m\u001b[0;34m=\u001b[0m\u001b[0;34m'tsne'\u001b[0m\u001b[0;34m)\u001b[0m\u001b[0;34m\u001b[0m\u001b[0;34m\u001b[0m\u001b[0m\n\u001b[1;32m      5\u001b[0m \u001b[0mdash\u001b[0m\u001b[0;34m\u001b[0m\u001b[0;34m\u001b[0m\u001b[0m\n",
            "\u001b[0;31mModuleNotFoundError\u001b[0m: No module named 'pyLDAvis'",
            "",
            "\u001b[0;31m---------------------------------------------------------------------------\u001b[0;32m\nNOTE: If your import is failing due to a missing package, you can\nmanually install dependencies using either !pip or !apt.\n\nTo view examples of installing some common dependencies, click the\n\"Open Examples\" button below.\n\u001b[0;31m---------------------------------------------------------------------------\u001b[0m\n"
          ],
          "errorDetails": {
            "actions": [
              {
                "action": "open_url",
                "actionText": "Open Examples",
                "url": "/notebooks/snippets/importing_libraries.ipynb"
              }
            ]
          }
        }
      ]
    }
  ]
}